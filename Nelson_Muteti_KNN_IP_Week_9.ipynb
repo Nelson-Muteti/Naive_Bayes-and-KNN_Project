{
  "nbformat": 4,
  "nbformat_minor": 0,
  "metadata": {
    "colab": {
      "name": "Nelson_Muteti_KNN_IP_Week_9.ipynb",
      "provenance": [],
      "toc_visible": true,
      "authorship_tag": "ABX9TyNFu5fFLW7JLx/L4R8CD9pf",
      "include_colab_link": true
    },
    "kernelspec": {
      "name": "python3",
      "display_name": "Python 3"
    },
    "language_info": {
      "name": "python"
    }
  },
  "cells": [
    {
      "cell_type": "markdown",
      "metadata": {
        "id": "view-in-github",
        "colab_type": "text"
      },
      "source": [
        "<a href=\"https://colab.research.google.com/github/Nelson-Muteti/Naive_Bayes-and-KNN_Project/blob/main/Nelson_Muteti_KNN_IP_Week_9.ipynb\" target=\"_parent\"><img src=\"https://colab.research.google.com/assets/colab-badge.svg\" alt=\"Open In Colab\"/></a>"
      ]
    },
    {
      "cell_type": "markdown",
      "metadata": {
        "id": "HuiPDlhB5Gi8"
      },
      "source": [
        "## Defining The Question\n",
        "\n",
        "We are supposed to build a KNN machine Learning Model on Titanic dataset training data and be able to accurately predict survival probability of passengers aboard given several features. After optimizing the model, we are to apply it to a given unseen data (test data)"
      ]
    },
    {
      "cell_type": "code",
      "metadata": {
        "id": "mRurnB3DrT2i"
      },
      "source": [
        "#import necessary libraries\n",
        "\n",
        "import numpy as np\n",
        "import pandas as pd\n",
        "import matplotlib.pyplot as plt\n",
        "import seaborn as sns\n",
        "%matplotlib inline"
      ],
      "execution_count": 208,
      "outputs": []
    },
    {
      "cell_type": "markdown",
      "metadata": {
        "id": "52hJt6eCKbea"
      },
      "source": [
        "## Defining Metrics for Success\n",
        "\n",
        "A satisfactory project will involve all steps of the CRISP DM including Data preparation, data cleaning,evaluation, data Modelling and finally deployment of model to test data."
      ]
    },
    {
      "cell_type": "markdown",
      "metadata": {
        "id": "3u1cS2rBK3gV"
      },
      "source": [
        "## Understanding The context.\n",
        "\n",
        "The context here involves the disaster surrounding the Titanic ship. The Titanic was a  British passenger liner operated by the White Star Line that sank in the North Atlantic Ocean on 15 April 1912, after striking an iceberg during her maiden voyage from Southampton to New York City.\n",
        "\n"
      ]
    },
    {
      "cell_type": "markdown",
      "metadata": {
        "id": "ERbSAfdmLk3S"
      },
      "source": [
        "## Experimental Design\n",
        "\n",
        "As mentioned above, we will first clean the data, do some exploratory data analyis before embarking on the main problem : building a KNN ML model. All will be done in accordance to CRISP DM."
      ]
    },
    {
      "cell_type": "markdown",
      "metadata": {
        "id": "2qMJS9tyL9sC"
      },
      "source": [
        "## Read the data"
      ]
    },
    {
      "cell_type": "code",
      "metadata": {
        "id": "j2S-6cq4sZmk"
      },
      "source": [
        "#load data into notebook\n",
        "train_df = pd.read_csv('/content/train (5).csv')\n",
        "test_df = pd.read_csv('/content/test (1) (1).csv')\n"
      ],
      "execution_count": 209,
      "outputs": []
    },
    {
      "cell_type": "code",
      "metadata": {
        "colab": {
          "base_uri": "https://localhost:8080/"
        },
        "id": "ek38-k9JspRm",
        "outputId": "3deb9dcd-bb78-48c3-ecac-3c1e7586ec53"
      },
      "source": [
        "#check makeup of data\n",
        "print(train_df.shape)\n",
        "print(test_df.shape)\n",
        "#we have 891 rows of data in train set and only 418 in the test data\n"
      ],
      "execution_count": 210,
      "outputs": [
        {
          "output_type": "stream",
          "text": [
            "(891, 12)\n",
            "(418, 11)\n"
          ],
          "name": "stdout"
        }
      ]
    },
    {
      "cell_type": "code",
      "metadata": {
        "colab": {
          "base_uri": "https://localhost:8080/",
          "height": 0
        },
        "id": "000WxrYps2PW",
        "outputId": "be31cdfb-b487-4238-8b76-21ae9bc7cad2"
      },
      "source": [
        "#view top of the train dataset\n",
        "train_df.head(2)"
      ],
      "execution_count": 211,
      "outputs": [
        {
          "output_type": "execute_result",
          "data": {
            "text/html": [
              "<div>\n",
              "<style scoped>\n",
              "    .dataframe tbody tr th:only-of-type {\n",
              "        vertical-align: middle;\n",
              "    }\n",
              "\n",
              "    .dataframe tbody tr th {\n",
              "        vertical-align: top;\n",
              "    }\n",
              "\n",
              "    .dataframe thead th {\n",
              "        text-align: right;\n",
              "    }\n",
              "</style>\n",
              "<table border=\"1\" class=\"dataframe\">\n",
              "  <thead>\n",
              "    <tr style=\"text-align: right;\">\n",
              "      <th></th>\n",
              "      <th>PassengerId</th>\n",
              "      <th>Survived</th>\n",
              "      <th>Pclass</th>\n",
              "      <th>Name</th>\n",
              "      <th>Sex</th>\n",
              "      <th>Age</th>\n",
              "      <th>SibSp</th>\n",
              "      <th>Parch</th>\n",
              "      <th>Ticket</th>\n",
              "      <th>Fare</th>\n",
              "      <th>Cabin</th>\n",
              "      <th>Embarked</th>\n",
              "    </tr>\n",
              "  </thead>\n",
              "  <tbody>\n",
              "    <tr>\n",
              "      <th>0</th>\n",
              "      <td>1</td>\n",
              "      <td>0</td>\n",
              "      <td>3</td>\n",
              "      <td>Braund, Mr. Owen Harris</td>\n",
              "      <td>male</td>\n",
              "      <td>22.0</td>\n",
              "      <td>1</td>\n",
              "      <td>0</td>\n",
              "      <td>A/5 21171</td>\n",
              "      <td>7.2500</td>\n",
              "      <td>NaN</td>\n",
              "      <td>S</td>\n",
              "    </tr>\n",
              "    <tr>\n",
              "      <th>1</th>\n",
              "      <td>2</td>\n",
              "      <td>1</td>\n",
              "      <td>1</td>\n",
              "      <td>Cumings, Mrs. John Bradley (Florence Briggs Th...</td>\n",
              "      <td>female</td>\n",
              "      <td>38.0</td>\n",
              "      <td>1</td>\n",
              "      <td>0</td>\n",
              "      <td>PC 17599</td>\n",
              "      <td>71.2833</td>\n",
              "      <td>C85</td>\n",
              "      <td>C</td>\n",
              "    </tr>\n",
              "  </tbody>\n",
              "</table>\n",
              "</div>"
            ],
            "text/plain": [
              "   PassengerId  Survived  Pclass  ...     Fare Cabin  Embarked\n",
              "0            1         0       3  ...   7.2500   NaN         S\n",
              "1            2         1       1  ...  71.2833   C85         C\n",
              "\n",
              "[2 rows x 12 columns]"
            ]
          },
          "metadata": {
            "tags": []
          },
          "execution_count": 211
        }
      ]
    },
    {
      "cell_type": "code",
      "metadata": {
        "colab": {
          "base_uri": "https://localhost:8080/",
          "height": 0
        },
        "id": "ZTT0gByntN3k",
        "outputId": "6b49a6d6-b3ef-4536-d217-3320efb7789c"
      },
      "source": [
        "#view top of test dataset\n",
        "test_df.head(2)\n",
        "#survived column is our target / label since it is not included in the test data"
      ],
      "execution_count": 212,
      "outputs": [
        {
          "output_type": "execute_result",
          "data": {
            "text/html": [
              "<div>\n",
              "<style scoped>\n",
              "    .dataframe tbody tr th:only-of-type {\n",
              "        vertical-align: middle;\n",
              "    }\n",
              "\n",
              "    .dataframe tbody tr th {\n",
              "        vertical-align: top;\n",
              "    }\n",
              "\n",
              "    .dataframe thead th {\n",
              "        text-align: right;\n",
              "    }\n",
              "</style>\n",
              "<table border=\"1\" class=\"dataframe\">\n",
              "  <thead>\n",
              "    <tr style=\"text-align: right;\">\n",
              "      <th></th>\n",
              "      <th>PassengerId</th>\n",
              "      <th>Pclass</th>\n",
              "      <th>Name</th>\n",
              "      <th>Sex</th>\n",
              "      <th>Age</th>\n",
              "      <th>SibSp</th>\n",
              "      <th>Parch</th>\n",
              "      <th>Ticket</th>\n",
              "      <th>Fare</th>\n",
              "      <th>Cabin</th>\n",
              "      <th>Embarked</th>\n",
              "    </tr>\n",
              "  </thead>\n",
              "  <tbody>\n",
              "    <tr>\n",
              "      <th>0</th>\n",
              "      <td>892</td>\n",
              "      <td>3</td>\n",
              "      <td>Kelly, Mr. James</td>\n",
              "      <td>male</td>\n",
              "      <td>34.5</td>\n",
              "      <td>0</td>\n",
              "      <td>0</td>\n",
              "      <td>330911</td>\n",
              "      <td>7.8292</td>\n",
              "      <td>NaN</td>\n",
              "      <td>Q</td>\n",
              "    </tr>\n",
              "    <tr>\n",
              "      <th>1</th>\n",
              "      <td>893</td>\n",
              "      <td>3</td>\n",
              "      <td>Wilkes, Mrs. James (Ellen Needs)</td>\n",
              "      <td>female</td>\n",
              "      <td>47.0</td>\n",
              "      <td>1</td>\n",
              "      <td>0</td>\n",
              "      <td>363272</td>\n",
              "      <td>7.0000</td>\n",
              "      <td>NaN</td>\n",
              "      <td>S</td>\n",
              "    </tr>\n",
              "  </tbody>\n",
              "</table>\n",
              "</div>"
            ],
            "text/plain": [
              "   PassengerId  Pclass                              Name  ...    Fare  Cabin  Embarked\n",
              "0          892       3                  Kelly, Mr. James  ...  7.8292    NaN         Q\n",
              "1          893       3  Wilkes, Mrs. James (Ellen Needs)  ...  7.0000    NaN         S\n",
              "\n",
              "[2 rows x 11 columns]"
            ]
          },
          "metadata": {
            "tags": []
          },
          "execution_count": 212
        }
      ]
    },
    {
      "cell_type": "code",
      "metadata": {
        "colab": {
          "base_uri": "https://localhost:8080/"
        },
        "id": "RKfDz3zCt7AM",
        "outputId": "b9f37e21-946e-4934-a78a-850883043099"
      },
      "source": [
        "#check if correct datatypes are applied\n",
        "train_df.dtypes"
      ],
      "execution_count": 213,
      "outputs": [
        {
          "output_type": "execute_result",
          "data": {
            "text/plain": [
              "PassengerId      int64\n",
              "Survived         int64\n",
              "Pclass           int64\n",
              "Name            object\n",
              "Sex             object\n",
              "Age            float64\n",
              "SibSp            int64\n",
              "Parch            int64\n",
              "Ticket          object\n",
              "Fare           float64\n",
              "Cabin           object\n",
              "Embarked        object\n",
              "dtype: object"
            ]
          },
          "metadata": {
            "tags": []
          },
          "execution_count": 213
        }
      ]
    },
    {
      "cell_type": "markdown",
      "metadata": {
        "id": "fp1vFENXMI-p"
      },
      "source": [
        "## External Data Validation\n",
        "\n",
        "To validate the integrity of the data , I used [this Wikipedia information](https://en.wikipedia.org/wiki/Titanic). The  integrity of the dataset was validated."
      ]
    },
    {
      "cell_type": "markdown",
      "metadata": {
        "id": "lKA2rNcnMDUU"
      },
      "source": [
        "## Data Cleaning"
      ]
    },
    {
      "cell_type": "code",
      "metadata": {
        "colab": {
          "base_uri": "https://localhost:8080/",
          "height": 0
        },
        "id": "YA6XaXQ2tlp8",
        "outputId": "00961f94-aca9-4a2d-89dd-28978a4cf20b"
      },
      "source": [
        "#clean each dataset independently\n",
        "#first begin with train data\n",
        "\n",
        "import missingno as msno\n",
        "\n",
        "msno.bar(train_df,color = 'blue')"
      ],
      "execution_count": 214,
      "outputs": [
        {
          "output_type": "execute_result",
          "data": {
            "text/plain": [
              "<matplotlib.axes._subplots.AxesSubplot at 0x7f88f7f0c1d0>"
            ]
          },
          "metadata": {
            "tags": []
          },
          "execution_count": 214
        },
        {
          "output_type": "display_data",
          "data": {
            "image/png": "[encoded data removed]",
            "text/plain": [
              "<Figure size 1728x720 with 3 Axes>"
            ]
          },
          "metadata": {
            "tags": [],
            "needs_background": "light"
          }
        }
      ]
    },
    {
      "cell_type": "code",
      "metadata": {
        "id": "6oHah22wugjl"
      },
      "source": [
        "#the age, cabin and embarked columns seem to have NA values\n",
        "\n",
        "#particularly, the cabin column has way too many missing values\n",
        "\n",
        "#imputing the values would skew our findings\n",
        "\n",
        "train_df.drop(['Cabin'],axis=1,inplace=True)"
      ],
      "execution_count": 215,
      "outputs": []
    },
    {
      "cell_type": "code",
      "metadata": {
        "id": "PQIP0flPxXGq"
      },
      "source": [
        "#also,name, passenger ID and ticket number are not important to our model\n",
        "\n",
        "train_df.drop(['PassengerId','Name','Ticket'],axis=1,inplace=True)"
      ],
      "execution_count": 216,
      "outputs": []
    },
    {
      "cell_type": "code",
      "metadata": {
        "colab": {
          "base_uri": "https://localhost:8080/",
          "height": 0
        },
        "id": "wn39zWk15T5T",
        "outputId": "00263bbb-7010-4ad1-e65b-7a066ebbbbe4"
      },
      "source": [
        "train_df.head(2)"
      ],
      "execution_count": 217,
      "outputs": [
        {
          "output_type": "execute_result",
          "data": {
            "text/html": [
              "<div>\n",
              "<style scoped>\n",
              "    .dataframe tbody tr th:only-of-type {\n",
              "        vertical-align: middle;\n",
              "    }\n",
              "\n",
              "    .dataframe tbody tr th {\n",
              "        vertical-align: top;\n",
              "    }\n",
              "\n",
              "    .dataframe thead th {\n",
              "        text-align: right;\n",
              "    }\n",
              "</style>\n",
              "<table border=\"1\" class=\"dataframe\">\n",
              "  <thead>\n",
              "    <tr style=\"text-align: right;\">\n",
              "      <th></th>\n",
              "      <th>Survived</th>\n",
              "      <th>Pclass</th>\n",
              "      <th>Sex</th>\n",
              "      <th>Age</th>\n",
              "      <th>SibSp</th>\n",
              "      <th>Parch</th>\n",
              "      <th>Fare</th>\n",
              "      <th>Embarked</th>\n",
              "    </tr>\n",
              "  </thead>\n",
              "  <tbody>\n",
              "    <tr>\n",
              "      <th>0</th>\n",
              "      <td>0</td>\n",
              "      <td>3</td>\n",
              "      <td>male</td>\n",
              "      <td>22.0</td>\n",
              "      <td>1</td>\n",
              "      <td>0</td>\n",
              "      <td>7.2500</td>\n",
              "      <td>S</td>\n",
              "    </tr>\n",
              "    <tr>\n",
              "      <th>1</th>\n",
              "      <td>1</td>\n",
              "      <td>1</td>\n",
              "      <td>female</td>\n",
              "      <td>38.0</td>\n",
              "      <td>1</td>\n",
              "      <td>0</td>\n",
              "      <td>71.2833</td>\n",
              "      <td>C</td>\n",
              "    </tr>\n",
              "  </tbody>\n",
              "</table>\n",
              "</div>"
            ],
            "text/plain": [
              "   Survived  Pclass     Sex   Age  SibSp  Parch     Fare Embarked\n",
              "0         0       3    male  22.0      1      0   7.2500        S\n",
              "1         1       1  female  38.0      1      0  71.2833        C"
            ]
          },
          "metadata": {
            "tags": []
          },
          "execution_count": 217
        }
      ]
    },
    {
      "cell_type": "code",
      "metadata": {
        "colab": {
          "base_uri": "https://localhost:8080/"
        },
        "id": "ghXI3oUN5YNW",
        "outputId": "bdf45c05-acef-4600-dd40-03b69f606082"
      },
      "source": [
        "train_df.isnull().sum()"
      ],
      "execution_count": 218,
      "outputs": [
        {
          "output_type": "execute_result",
          "data": {
            "text/plain": [
              "Survived      0\n",
              "Pclass        0\n",
              "Sex           0\n",
              "Age         177\n",
              "SibSp         0\n",
              "Parch         0\n",
              "Fare          0\n",
              "Embarked      2\n",
              "dtype: int64"
            ]
          },
          "metadata": {
            "tags": []
          },
          "execution_count": 218
        }
      ]
    },
    {
      "cell_type": "code",
      "metadata": {
        "colab": {
          "base_uri": "https://localhost:8080/"
        },
        "id": "Aal0GwbU5gjU",
        "outputId": "895cb3b1-53de-4be8-f4e7-372cb4aacaa5"
      },
      "source": [
        "train_df['Age'].describe()"
      ],
      "execution_count": 219,
      "outputs": [
        {
          "output_type": "execute_result",
          "data": {
            "text/plain": [
              "count    714.000000\n",
              "mean      29.699118\n",
              "std       14.526497\n",
              "min        0.420000\n",
              "25%       20.125000\n",
              "50%       28.000000\n",
              "75%       38.000000\n",
              "max       80.000000\n",
              "Name: Age, dtype: float64"
            ]
          },
          "metadata": {
            "tags": []
          },
          "execution_count": 219
        }
      ]
    },
    {
      "cell_type": "code",
      "metadata": {
        "colab": {
          "base_uri": "https://localhost:8080/",
          "height": 0
        },
        "id": "a5h91EBQezSE",
        "outputId": "0bd16c3b-7dde-4c45-bad5-d0c6e883381a"
      },
      "source": [
        "# Let's look at how passenger age is related to their class as a passenger on the boat.\n",
        "# \n",
        "sns.boxplot(x='Pclass', y='Age', data=train_df, palette='hls')"
      ],
      "execution_count": 220,
      "outputs": [
        {
          "output_type": "execute_result",
          "data": {
            "text/plain": [
              "<matplotlib.axes._subplots.AxesSubplot at 0x7f88ff90af90>"
            ]
          },
          "metadata": {
            "tags": []
          },
          "execution_count": 220
        },
        {
          "output_type": "display_data",
          "data": {
            "image/png": "[encoded data removed]",
            "text/plain": [
              "<Figure size 432x288 with 1 Axes>"
            ]
          },
          "metadata": {
            "tags": [],
            "needs_background": "light"
          }
        }
      ]
    },
    {
      "cell_type": "code",
      "metadata": {
        "colab": {
          "base_uri": "https://localhost:8080/"
        },
        "id": "_p9u9COIr7Ka",
        "outputId": "620e8554-9741-4285-c306-c42c22daf79d"
      },
      "source": [
        "#find average per class and impute NA values with it\n",
        "class_age = train_df.groupby(['Pclass'])['Age'].mean()\n",
        "class_age"
      ],
      "execution_count": 221,
      "outputs": [
        {
          "output_type": "execute_result",
          "data": {
            "text/plain": [
              "Pclass\n",
              "1    38.233441\n",
              "2    29.877630\n",
              "3    25.140620\n",
              "Name: Age, dtype: float64"
            ]
          },
          "metadata": {
            "tags": []
          },
          "execution_count": 221
        }
      ]
    },
    {
      "cell_type": "code",
      "metadata": {
        "id": "Rkxedhj9fd5A"
      },
      "source": [
        "# So let's write a function that finds each null value in the Age variable, and for each null, \n",
        "# checks the value of the Pclass and assigns an age value according to the average age of passengers in that class.\n",
        "#\n",
        "def age_approx(cols):\n",
        "    Age = cols[0]\n",
        "    Pclass = cols[1]\n",
        "    \n",
        "    if pd.isnull(Age):\n",
        "        if Pclass == 1:\n",
        "            return 38\n",
        "        elif Pclass == 2:\n",
        "            return 29\n",
        "        else:\n",
        "            return 25\n",
        "    else:\n",
        "        return Age"
      ],
      "execution_count": 222,
      "outputs": []
    },
    {
      "cell_type": "code",
      "metadata": {
        "colab": {
          "base_uri": "https://localhost:8080/"
        },
        "id": "vJIEytqJgCby",
        "outputId": "31d302fa-9365-4f78-aa24-408f1aaa1adc"
      },
      "source": [
        "train_df['Age'] = train_df[['Age', 'Pclass']].apply(age_approx, axis=1)\n",
        "train_df['Age'].describe()"
      ],
      "execution_count": 223,
      "outputs": [
        {
          "output_type": "execute_result",
          "data": {
            "text/plain": [
              "count    891.000000\n",
              "mean      29.252716\n",
              "std       13.211959\n",
              "min        0.420000\n",
              "25%       22.000000\n",
              "50%       26.000000\n",
              "75%       37.000000\n",
              "max       80.000000\n",
              "Name: Age, dtype: float64"
            ]
          },
          "metadata": {
            "tags": []
          },
          "execution_count": 223
        }
      ]
    },
    {
      "cell_type": "code",
      "metadata": {
        "id": "nWbXoPEc6RKB"
      },
      "source": [
        "#train_df['Age'].interpolate(method='linear', inplace=True, limit_direction=\"both\")\n",
        "#use a linear interpolation to impute missing values for age column"
      ],
      "execution_count": 224,
      "outputs": []
    },
    {
      "cell_type": "code",
      "metadata": {
        "colab": {
          "base_uri": "https://localhost:8080/"
        },
        "id": "C9dhsRsU65U6",
        "outputId": "d90fab58-7ad1-4718-fe58-aa8939c29414"
      },
      "source": [
        "train_df['Age'].describe()"
      ],
      "execution_count": 225,
      "outputs": [
        {
          "output_type": "execute_result",
          "data": {
            "text/plain": [
              "count    891.000000\n",
              "mean      29.252716\n",
              "std       13.211959\n",
              "min        0.420000\n",
              "25%       22.000000\n",
              "50%       26.000000\n",
              "75%       37.000000\n",
              "max       80.000000\n",
              "Name: Age, dtype: float64"
            ]
          },
          "metadata": {
            "tags": []
          },
          "execution_count": 225
        }
      ]
    },
    {
      "cell_type": "code",
      "metadata": {
        "colab": {
          "base_uri": "https://localhost:8080/"
        },
        "id": "X4UChYIA-LUI",
        "outputId": "cc3176e0-80b8-4f0c-d058-b93f3a17457e"
      },
      "source": [
        "#fill na value for Embarked column with the most occuring\n",
        "train_df['Embarked'].value_counts()"
      ],
      "execution_count": 226,
      "outputs": [
        {
          "output_type": "execute_result",
          "data": {
            "text/plain": [
              "S    644\n",
              "C    168\n",
              "Q     77\n",
              "Name: Embarked, dtype: int64"
            ]
          },
          "metadata": {
            "tags": []
          },
          "execution_count": 226
        }
      ]
    },
    {
      "cell_type": "code",
      "metadata": {
        "id": "fy3zTzeV-ZxO"
      },
      "source": [
        "train_df = train_df.fillna(train_df['Embarked'].value_counts().index[0])"
      ],
      "execution_count": 227,
      "outputs": []
    },
    {
      "cell_type": "code",
      "metadata": {
        "colab": {
          "base_uri": "https://localhost:8080/",
          "height": 0
        },
        "id": "ZdJMhlW1vjJK",
        "outputId": "205e5b92-8a11-4674-950d-e5efd7cabd64"
      },
      "source": [
        "msno.bar(train_df,color = 'blue')\n",
        "#confirming that there are no more missing values in data"
      ],
      "execution_count": 228,
      "outputs": [
        {
          "output_type": "execute_result",
          "data": {
            "text/plain": [
              "<matplotlib.axes._subplots.AxesSubplot at 0x7f88f80f5b50>"
            ]
          },
          "metadata": {
            "tags": []
          },
          "execution_count": 228
        },
        {
          "output_type": "display_data",
          "data": {
            "image/png": "[encoded data removed]",
            "text/plain": [
              "<Figure size 1728x720 with 3 Axes>"
            ]
          },
          "metadata": {
            "tags": [],
            "needs_background": "light"
          }
        }
      ]
    },
    {
      "cell_type": "code",
      "metadata": {
        "colab": {
          "base_uri": "https://localhost:8080/",
          "height": 0
        },
        "id": "-F4V2DFOwZL3",
        "outputId": "1eddde49-d4cc-4842-c1e4-c441256cf912"
      },
      "source": [
        "#now lets check for outliers in train data\n",
        "\n",
        "sns.catplot(y = 'Age',data = train_df,kind = 'box')\n",
        "plt.title('Checking for outliers in Age column')\n",
        "plt.show()\n",
        "\n",
        "#just a few outliers which are not really far from 3rd quartile"
      ],
      "execution_count": 229,
      "outputs": [
        {
          "output_type": "display_data",
          "data": {
            "image/png": "[encoded data removed]",
            "text/plain": [
              "<Figure size 360x360 with 1 Axes>"
            ]
          },
          "metadata": {
            "tags": [],
            "needs_background": "light"
          }
        }
      ]
    },
    {
      "cell_type": "code",
      "metadata": {
        "colab": {
          "base_uri": "https://localhost:8080/",
          "height": 0
        },
        "id": "t2t_Xl1lwwEB",
        "outputId": "25b1d742-b7d8-48b6-a42f-2d43792ebb03"
      },
      "source": [
        "#now lets check for outliers in train data\n",
        "\n",
        "sns.catplot(y = 'Fare',data = train_df,kind = 'box')\n",
        "plt.title('Checking for outliers in Fare column')\n",
        "plt.show()"
      ],
      "execution_count": 230,
      "outputs": [
        {
          "output_type": "display_data",
          "data": {
            "image/png": "[encoded data removed]",
            "text/plain": [
              "<Figure size 360x360 with 1 Axes>"
            ]
          },
          "metadata": {
            "tags": [],
            "needs_background": "light"
          }
        }
      ]
    },
    {
      "cell_type": "code",
      "metadata": {
        "colab": {
          "base_uri": "https://localhost:8080/"
        },
        "id": "L7s0wfoqx2Km",
        "outputId": "97798ccc-506f-4032-fc55-85a3cfa4fc15"
      },
      "source": [
        "#check the outliers in the Fare column\n",
        "outliers=[]\n",
        "\n",
        "def detect_outlier(train_df):\n",
        "    \n",
        "    threshold=3\n",
        "    mean_1 = np.mean(train_df)\n",
        "    std_1 =np.std(train_df)\n",
        "    \n",
        "    for y in train_df:\n",
        "        z_score= (y - mean_1)/std_1 \n",
        "        if np.abs(z_score) > threshold:\n",
        "            outliers.append(y)\n",
        "    return outliers\n",
        "\n",
        "print(detect_outlier(train_df['Fare']))\n",
        "len(detect_outlier(train_df['Fare']))\n",
        "\n",
        "#36 outliers in fare column"
      ],
      "execution_count": 231,
      "outputs": [
        {
          "output_type": "stream",
          "text": [
            "[263.0, 263.0, 247.5208, 512.3292, 247.5208, 262.375, 263.0, 211.5, 227.525, 263.0, 221.7792, 227.525, 512.3292, 211.3375, 227.525, 227.525, 211.3375, 512.3292, 262.375, 211.3375]\n"
          ],
          "name": "stdout"
        },
        {
          "output_type": "execute_result",
          "data": {
            "text/plain": [
              "40"
            ]
          },
          "metadata": {
            "tags": []
          },
          "execution_count": 231
        }
      ]
    },
    {
      "cell_type": "code",
      "metadata": {
        "colab": {
          "base_uri": "https://localhost:8080/"
        },
        "id": "XBeWspCEzBNw",
        "outputId": "f7b4458c-ef88-4aac-f203-97b14c7e193e"
      },
      "source": [
        "#I have to get the Interquartile range\n",
        "Q1 = train_df.quantile(0.25)\n",
        "Q3 = train_df.quantile(0.75)\n",
        "IQR = Q3 - Q1\n",
        "df = train_df[~((train_df < (Q1 - 1.5 * IQR)) | (train_df > (Q3 + 1.5 * IQR))).any(axis=1)]\n",
        "print(df.shape)\n",
        "print(train_df.shape)"
      ],
      "execution_count": 232,
      "outputs": [
        {
          "output_type": "stream",
          "text": [
            "(589, 8)\n",
            "(891, 8)\n"
          ],
          "name": "stdout"
        }
      ]
    },
    {
      "cell_type": "code",
      "metadata": {
        "colab": {
          "base_uri": "https://localhost:8080/",
          "height": 0
        },
        "id": "46hbRe_w2DaT",
        "outputId": "5bdc0207-6e1e-4832-cd91-eacab569b011"
      },
      "source": [
        "#now, checking for outliers in fare column we have\n",
        "sns.catplot(y = 'Fare',data = df,kind = 'box')\n",
        "plt.title('Confirming that outliers have been removed from data')\n",
        "plt.show()"
      ],
      "execution_count": 233,
      "outputs": [
        {
          "output_type": "display_data",
          "data": {
            "image/png": "[encoded data removed]",
            "text/plain": [
              "<Figure size 360x360 with 1 Axes>"
            ]
          },
          "metadata": {
            "tags": [],
            "needs_background": "light"
          }
        }
      ]
    },
    {
      "cell_type": "code",
      "metadata": {
        "colab": {
          "base_uri": "https://localhost:8080/",
          "height": 0
        },
        "id": "vBXTeedn2SSi",
        "outputId": "b3039edf-45d3-4fa5-ef70-ebaa250da5bd"
      },
      "source": [
        "#now clean the test data\n",
        "\n",
        "msno.bar(test_df,color = 'blue')"
      ],
      "execution_count": 234,
      "outputs": [
        {
          "output_type": "execute_result",
          "data": {
            "text/plain": [
              "<matplotlib.axes._subplots.AxesSubplot at 0x7f88f8413150>"
            ]
          },
          "metadata": {
            "tags": []
          },
          "execution_count": 234
        },
        {
          "output_type": "display_data",
          "data": {
            "image/png": "[encoded data removed]",
            "text/plain": [
              "<Figure size 1728x720 with 3 Axes>"
            ]
          },
          "metadata": {
            "tags": [],
            "needs_background": "light"
          }
        }
      ]
    },
    {
      "cell_type": "code",
      "metadata": {
        "id": "9hpbrahr2qFN"
      },
      "source": [
        "#the age, cabin and fare columns seem to have NA values\n",
        "\n",
        "#particularly, the cabin column has way too many missing values\n",
        "\n",
        "\n",
        "test_df.drop(['Cabin'],axis=1,inplace=True)"
      ],
      "execution_count": 235,
      "outputs": []
    },
    {
      "cell_type": "code",
      "metadata": {
        "id": "dg4gJ_9Z_fxb"
      },
      "source": [
        "test_df.drop(['Name','Ticket'],axis=1,inplace=True)\n",
        "#drop columns that may not be used for modelling"
      ],
      "execution_count": 236,
      "outputs": []
    },
    {
      "cell_type": "code",
      "metadata": {
        "colab": {
          "base_uri": "https://localhost:8080/"
        },
        "id": "Ta8BhOhd_y0L",
        "outputId": "288e6cfc-0a01-4018-f46a-eb0096fb3ab5"
      },
      "source": [
        "print(test_df['Age'].describe())\n",
        "\n",
        "grouped = test_df.groupby(['Pclass'])['Age'].mean()\n",
        "\n",
        "grouped"
      ],
      "execution_count": 237,
      "outputs": [
        {
          "output_type": "stream",
          "text": [
            "count    332.000000\n",
            "mean      30.272590\n",
            "std       14.181209\n",
            "min        0.170000\n",
            "25%       21.000000\n",
            "50%       27.000000\n",
            "75%       39.000000\n",
            "max       76.000000\n",
            "Name: Age, dtype: float64\n"
          ],
          "name": "stdout"
        },
        {
          "output_type": "execute_result",
          "data": {
            "text/plain": [
              "Pclass\n",
              "1    40.918367\n",
              "2    28.777500\n",
              "3    24.027945\n",
              "Name: Age, dtype: float64"
            ]
          },
          "metadata": {
            "tags": []
          },
          "execution_count": 237
        }
      ]
    },
    {
      "cell_type": "code",
      "metadata": {
        "colab": {
          "base_uri": "https://localhost:8080/",
          "height": 0
        },
        "id": "cJmLoD3gpuWu",
        "outputId": "aee98107-a592-4a9e-e557-0fa906235900"
      },
      "source": [
        "# Let's look at how passenger age is related to their class as a passenger on the boat.\n",
        "#just like we did with train data, impute for age and fare columns\n",
        "sns.boxplot(x='Pclass', y='Age', data=test_df, palette='hls')"
      ],
      "execution_count": 238,
      "outputs": [
        {
          "output_type": "execute_result",
          "data": {
            "text/plain": [
              "<matplotlib.axes._subplots.AxesSubplot at 0x7f88f81c7350>"
            ]
          },
          "metadata": {
            "tags": []
          },
          "execution_count": 238
        },
        {
          "output_type": "display_data",
          "data": {
            "image/png": "[encoded data removed]",
            "text/plain": [
              "<Figure size 432x288 with 1 Axes>"
            ]
          },
          "metadata": {
            "tags": [],
            "needs_background": "light"
          }
        }
      ]
    },
    {
      "cell_type": "code",
      "metadata": {
        "id": "SbLwlh-x_Ma6"
      },
      "source": [
        "#function \n",
        "def age_approx(cols):\n",
        "    Age = cols[0]\n",
        "    Pclass = cols[1]\n",
        "    \n",
        "    if pd.isnull(Age):\n",
        "        if Pclass == 1:\n",
        "            return 40\n",
        "        elif Pclass == 2:\n",
        "            return 28\n",
        "        else:\n",
        "            return 24\n",
        "    else:\n",
        "        return Age"
      ],
      "execution_count": 239,
      "outputs": []
    },
    {
      "cell_type": "code",
      "metadata": {
        "colab": {
          "base_uri": "https://localhost:8080/"
        },
        "id": "bG-2hGhgrV1g",
        "outputId": "d69e674b-4df8-45ff-ea0a-b309421c187e"
      },
      "source": [
        "test_df['Age'] = test_df[['Age', 'Pclass']].apply(age_approx, axis=1)\n",
        "test_df['Age'].describe()\n",
        "#newly imputed data is inline with initial data"
      ],
      "execution_count": 240,
      "outputs": [
        {
          "output_type": "execute_result",
          "data": {
            "text/plain": [
              "count    418.000000\n",
              "mean      29.374402\n",
              "std       12.950690\n",
              "min        0.170000\n",
              "25%       23.000000\n",
              "50%       25.000000\n",
              "75%       36.375000\n",
              "max       76.000000\n",
              "Name: Age, dtype: float64"
            ]
          },
          "metadata": {
            "tags": []
          },
          "execution_count": 240
        }
      ]
    },
    {
      "cell_type": "code",
      "metadata": {
        "colab": {
          "base_uri": "https://localhost:8080/"
        },
        "id": "UUpNuXITAVoD",
        "outputId": "946077e9-92f2-41d3-af3a-d01143cdf55d"
      },
      "source": [
        "test_df['Fare'].describe()"
      ],
      "execution_count": 241,
      "outputs": [
        {
          "output_type": "execute_result",
          "data": {
            "text/plain": [
              "count    417.000000\n",
              "mean      35.627188\n",
              "std       55.907576\n",
              "min        0.000000\n",
              "25%        7.895800\n",
              "50%       14.454200\n",
              "75%       31.500000\n",
              "max      512.329200\n",
              "Name: Fare, dtype: float64"
            ]
          },
          "metadata": {
            "tags": []
          },
          "execution_count": 241
        }
      ]
    },
    {
      "cell_type": "code",
      "metadata": {
        "colab": {
          "base_uri": "https://localhost:8080/"
        },
        "id": "JyTwuwFy_-9r",
        "outputId": "d93d2597-6291-49d3-9411-c504800d354f"
      },
      "source": [
        "#imputing fare data\n",
        "test_df['Fare'].interpolate(method='linear', inplace=True, limit_direction=\"both\")\n",
        "test_df['Fare'].describe()"
      ],
      "execution_count": 242,
      "outputs": [
        {
          "output_type": "execute_result",
          "data": {
            "text/plain": [
              "count    418.000000\n",
              "mean      35.565974\n",
              "std       55.854524\n",
              "min        0.000000\n",
              "25%        7.895800\n",
              "50%       14.454200\n",
              "75%       31.471875\n",
              "max      512.329200\n",
              "Name: Fare, dtype: float64"
            ]
          },
          "metadata": {
            "tags": []
          },
          "execution_count": 242
        }
      ]
    },
    {
      "cell_type": "code",
      "metadata": {
        "colab": {
          "base_uri": "https://localhost:8080/",
          "height": 0
        },
        "id": "sqdi8SY3Adpd",
        "outputId": "1b500470-21e4-4ada-d165-8c0855979b3a"
      },
      "source": [
        "#now check for any missing values in data\n",
        "msno.bar(test_df,color = 'maroon')"
      ],
      "execution_count": 243,
      "outputs": [
        {
          "output_type": "execute_result",
          "data": {
            "text/plain": [
              "<matplotlib.axes._subplots.AxesSubplot at 0x7f88f804ffd0>"
            ]
          },
          "metadata": {
            "tags": []
          },
          "execution_count": 243
        },
        {
          "output_type": "display_data",
          "data": {
            "image/png": "[encoded data removed]",
            "text/plain": [
              "<Figure size 1728x720 with 3 Axes>"
            ]
          },
          "metadata": {
            "tags": [],
            "needs_background": "light"
          }
        }
      ]
    },
    {
      "cell_type": "code",
      "metadata": {
        "colab": {
          "base_uri": "https://localhost:8080/"
        },
        "id": "el9mm6SMA5kU",
        "outputId": "46844c58-a7b9-4565-bae4-de8be78caa84"
      },
      "source": [
        "df.columns"
      ],
      "execution_count": 244,
      "outputs": [
        {
          "output_type": "execute_result",
          "data": {
            "text/plain": [
              "Index(['Survived', 'Pclass', 'Sex', 'Age', 'SibSp', 'Parch', 'Fare',\n",
              "       'Embarked'],\n",
              "      dtype='object')"
            ]
          },
          "metadata": {
            "tags": []
          },
          "execution_count": 244
        }
      ]
    },
    {
      "cell_type": "markdown",
      "metadata": {
        "id": "1iJj0GgFM7Dx"
      },
      "source": [
        "## Exploratory Data Analysis\n",
        "\n",
        "First Univariate EDA then Bivariate and Multivariate Analysis to understand and visualize the data and understand underlying patterns."
      ]
    },
    {
      "cell_type": "code",
      "metadata": {
        "colab": {
          "base_uri": "https://localhost:8080/",
          "height": 0
        },
        "id": "mB6AaXopAotu",
        "outputId": "3eb29e9a-ac00-4454-aca9-caec0fb0bc9a"
      },
      "source": [
        "#now for some EDA on train data\n",
        "#univariate\n",
        "\n",
        "sns.countplot(x = 'Survived',data = df,palette='Set1')\n",
        "plt.title('Count of  Passengers in order of survival')\n",
        "plt.show()\n",
        "\n",
        "#majority of passengers did not survive (0)"
      ],
      "execution_count": 245,
      "outputs": [
        {
          "output_type": "display_data",
          "data": {
            "image/png": "[encoded data removed]",
            "text/plain": [
              "<Figure size 432x288 with 1 Axes>"
            ]
          },
          "metadata": {
            "tags": [],
            "needs_background": "light"
          }
        }
      ]
    },
    {
      "cell_type": "code",
      "metadata": {
        "colab": {
          "base_uri": "https://localhost:8080/",
          "height": 0
        },
        "id": "Gi_74g4vBC59",
        "outputId": "3f89377e-1510-4268-e810-11e43ee7375a"
      },
      "source": [
        "sns.countplot(x = 'Sex',data = df,palette = 'hls')\n",
        "plt.title('Gender of Passengers in the ship')\n",
        "plt.show()\n",
        "\n",
        "#majority of passengers in the ship are male"
      ],
      "execution_count": 246,
      "outputs": [
        {
          "output_type": "display_data",
          "data": {
            "image/png": "[encoded data removed]",
            "text/plain": [
              "<Figure size 432x288 with 1 Axes>"
            ]
          },
          "metadata": {
            "tags": [],
            "needs_background": "light"
          }
        }
      ]
    },
    {
      "cell_type": "code",
      "metadata": {
        "colab": {
          "base_uri": "https://localhost:8080/",
          "height": 0
        },
        "id": "5T17U-tuBqEf",
        "outputId": "ca6dcbe9-bb7f-40ca-9147-09ef4f46e275"
      },
      "source": [
        "#distribution of ages\n",
        "\n",
        "sns.displot(df['Age'],kde = True,bins = 30)\n",
        "plt.title('Age distribution of passengers in the data')\n",
        "plt.show()\n",
        "\n",
        "#ages seem to be normally distributed"
      ],
      "execution_count": 247,
      "outputs": [
        {
          "output_type": "display_data",
          "data": {
            "image/png": "[encoded data removed]",
            "text/plain": [
              "<Figure size 360x360 with 1 Axes>"
            ]
          },
          "metadata": {
            "tags": [],
            "needs_background": "light"
          }
        }
      ]
    },
    {
      "cell_type": "code",
      "metadata": {
        "colab": {
          "base_uri": "https://localhost:8080/"
        },
        "id": "3Ybja1uNDRTc",
        "outputId": "c248e6da-5dd3-41b5-f84c-8e27218cd383"
      },
      "source": [
        "#check for normality of age distribution in data using\n",
        "#null hypothesis states that data is Normally distributed\n",
        "\n",
        "from scipy.stats import shapiro\n",
        "stat,p = shapiro(df.Age)\n",
        "print((stat,p))\n",
        "alpha = 0.005\n",
        "if stat > alpha:\n",
        "  print('Normal Distribution')\n",
        "else:\n",
        "  print('Not Normal Distribution')"
      ],
      "execution_count": 248,
      "outputs": [
        {
          "output_type": "stream",
          "text": [
            "(0.9245511293411255, 1.3179030624954982e-16)\n",
            "Normal Distribution\n"
          ],
          "name": "stdout"
        }
      ]
    },
    {
      "cell_type": "code",
      "metadata": {
        "colab": {
          "base_uri": "https://localhost:8080/",
          "height": 0
        },
        "id": "oPvhDC1uEn0D",
        "outputId": "f165c21c-cd1b-48f2-81ca-cb708f95e085"
      },
      "source": [
        "#now for some bivariate analysis\n",
        "\n",
        "sns.relplot(x = 'Fare',y = 'Age',data = df)\n",
        "plt.title('Scatter plot between age and Fare')\n",
        "plt.show()"
      ],
      "execution_count": 249,
      "outputs": [
        {
          "output_type": "display_data",
          "data": {
            "image/png": "[encoded data removed]",
            "text/plain": [
              "<Figure size 360x360 with 1 Axes>"
            ]
          },
          "metadata": {
            "tags": [],
            "needs_background": "light"
          }
        }
      ]
    },
    {
      "cell_type": "code",
      "metadata": {
        "colab": {
          "base_uri": "https://localhost:8080/"
        },
        "id": "8NrWi5ezFhu0",
        "outputId": "bc9c14ac-491d-47be-f910-e00bb3b82da0"
      },
      "source": [
        "#get the correlation coeffient beween age and fare \n",
        "\n",
        "mycoef = df['Age'].corr(df['Fare'])#\n",
        "print(mycoef)\n",
        "\n",
        "#very weak correlation between Fare and Age of passengers"
      ],
      "execution_count": 250,
      "outputs": [
        {
          "output_type": "stream",
          "text": [
            "0.32441045382044964\n"
          ],
          "name": "stdout"
        }
      ]
    },
    {
      "cell_type": "code",
      "metadata": {
        "colab": {
          "base_uri": "https://localhost:8080/",
          "height": 0
        },
        "id": "9IapfC5_F8_o",
        "outputId": "dc47f742-4319-4d04-b346-fb27692dcb97"
      },
      "source": [
        "mytab = pd.crosstab(index=df['Sex'],columns=df['Survived'])\n",
        "\n",
        "mytab.plot(kind=\"bar\",stacked=True)\n",
        "plt.title('Stacked Barplot to check relatioship between Gender and survival')\n",
        "plt.xticks(rotation = 0)\n",
        "plt.show()\n",
        "\n",
        "#relationship between gender and survival\n"
      ],
      "execution_count": 251,
      "outputs": [
        {
          "output_type": "display_data",
          "data": {
            "image/png": "[encoded data removed]",
            "text/plain": [
              "<Figure size 432x288 with 1 Axes>"
            ]
          },
          "metadata": {
            "tags": [],
            "needs_background": "light"
          }
        }
      ]
    },
    {
      "cell_type": "code",
      "metadata": {
        "colab": {
          "base_uri": "https://localhost:8080/",
          "height": 0
        },
        "id": "csffjRvELtil",
        "outputId": "12d3c47f-fd17-4228-e72c-00c2600e483c"
      },
      "source": [
        "sns.countplot(x = 'Pclass',hue = 'Survived',palette='Set1',data = df)\n",
        "plt.title('Plot to check relatioship between Passenger class and survival')\n",
        "plt.show()\n",
        "#relationship between Passenger class and survival\n",
        "\n",
        "# almost 50% of passengers in first class survived while a disproportionate number  \n",
        "\n",
        "#  of passengers in other classes did not survive"
      ],
      "execution_count": 252,
      "outputs": [
        {
          "output_type": "display_data",
          "data": {
            "image/png": "[encoded data removed]",
            "text/plain": [
              "<Figure size 432x288 with 1 Axes>"
            ]
          },
          "metadata": {
            "tags": [],
            "needs_background": "light"
          }
        }
      ]
    },
    {
      "cell_type": "code",
      "metadata": {
        "colab": {
          "base_uri": "https://localhost:8080/",
          "height": 0
        },
        "id": "P1LgRxNzMZos",
        "outputId": "71d1b742-1ac6-4bda-ead3-e0a5585b950f"
      },
      "source": [
        "sns.barplot(x ='Pclass', y ='Age', data = df,\n",
        "            palette ='plasma', estimator = np.mean)\n",
        "plt.title('Checking average age of passengers per Class')\n",
        "plt.show()\n",
        "\n",
        "#the average age of passengers reduces with class\n",
        "\n",
        "# First class passengers are older on average compared to subsequent classes."
      ],
      "execution_count": 253,
      "outputs": [
        {
          "output_type": "display_data",
          "data": {
            "image/png": "[encoded data removed]",
            "text/plain": [
              "<Figure size 432x288 with 1 Axes>"
            ]
          },
          "metadata": {
            "tags": [],
            "needs_background": "light"
          }
        }
      ]
    },
    {
      "cell_type": "code",
      "metadata": {
        "colab": {
          "base_uri": "https://localhost:8080/",
          "height": 0
        },
        "id": "eVE4to6SKuk8",
        "outputId": "e78f3fb0-d56c-462d-f19d-dd7f6adcc6f9"
      },
      "source": [
        "#now for multivariate analysis\n",
        "\n",
        "sns.lmplot(x = 'Fare',y = 'Age',hue='Survived',data = df,fit_reg=False)\n",
        "plt.title('Relationship between age, fare and survival rate')\n",
        "plt.show()\n",
        "\n",
        "# There doesnt seem to be an obvious trend between age, fare and survival\n",
        "# but the higher a passengers' fare and older the higher the chances of survival"
      ],
      "execution_count": 254,
      "outputs": [
        {
          "output_type": "display_data",
          "data": {
            "image/png": "[encoded data removed]",
            "text/plain": [
              "<Figure size 411.875x360 with 1 Axes>"
            ]
          },
          "metadata": {
            "tags": [],
            "needs_background": "light"
          }
        }
      ]
    },
    {
      "cell_type": "code",
      "metadata": {
        "colab": {
          "base_uri": "https://localhost:8080/",
          "height": 0
        },
        "id": "vBG2iBoXOB1M",
        "outputId": "f721840d-fc9c-4be7-a9f9-5b273d31f5d4"
      },
      "source": [
        "sns.heatmap(df.corr(), annot=True, cmap = 'Reds')\n",
        "plt.show()\n",
        "\n",
        "#now lets check a correlation heatmap of feature variables and target\n",
        "\n",
        "#there doesnt seem to be any strong correlations between variables and thus we can use all the variables for\n",
        "\n",
        "# initial modelling.\n"
      ],
      "execution_count": 255,
      "outputs": [
        {
          "output_type": "display_data",
          "data": {
            "image/png": "[encoded data removed]",
            "text/plain": [
              "<Figure size 432x288 with 2 Axes>"
            ]
          },
          "metadata": {
            "tags": [],
            "needs_background": "light"
          }
        }
      ]
    },
    {
      "cell_type": "markdown",
      "metadata": {
        "id": "fhX4w-cyNRkP"
      },
      "source": [
        "## Implementing the solution"
      ]
    },
    {
      "cell_type": "markdown",
      "metadata": {
        "id": "QRHLtfUxNbzf"
      },
      "source": [
        "First, lets correct any data Imbalance for better modelling and to avoid data leakage. This will be done by **downsampling the data and getting a proportional representation of the target column values.**"
      ]
    },
    {
      "cell_type": "code",
      "metadata": {
        "colab": {
          "base_uri": "https://localhost:8080/"
        },
        "id": "97FK7TRxLUGV",
        "outputId": "b65d8c5a-5a1c-4520-82c4-f257680f2a64"
      },
      "source": [
        "#now lets downsample our data\n",
        "\n",
        "from sklearn.utils import resample\n",
        "\n",
        "df['Survived'].value_counts()\n",
        "\n",
        "#we are going to include all data points for passengers who survived and a proportionate number for those who did\n",
        "\n",
        "# not survive"
      ],
      "execution_count": 256,
      "outputs": [
        {
          "output_type": "execute_result",
          "data": {
            "text/plain": [
              "0    413\n",
              "1    176\n",
              "Name: Survived, dtype: int64"
            ]
          },
          "metadata": {
            "tags": []
          },
          "execution_count": 256
        }
      ]
    },
    {
      "cell_type": "code",
      "metadata": {
        "colab": {
          "base_uri": "https://localhost:8080/"
        },
        "id": "zRfRvir7P5I8",
        "outputId": "654996d9-9412-4c11-fed6-0d87c23872a0"
      },
      "source": [
        "sur1_df = df[df['Survived'] == 1]\n",
        "sur1_df.shape"
      ],
      "execution_count": 257,
      "outputs": [
        {
          "output_type": "execute_result",
          "data": {
            "text/plain": [
              "(176, 8)"
            ]
          },
          "metadata": {
            "tags": []
          },
          "execution_count": 257
        }
      ]
    },
    {
      "cell_type": "code",
      "metadata": {
        "colab": {
          "base_uri": "https://localhost:8080/"
        },
        "id": "OY5sVN79Onl4",
        "outputId": "e91d89ee-f754-431e-a68a-45f65952f322"
      },
      "source": [
        "sur_df = df[df['Survived'] == 0]\n",
        "#first subset passengers who did not survive\n",
        "sur_df.shape"
      ],
      "execution_count": 258,
      "outputs": [
        {
          "output_type": "execute_result",
          "data": {
            "text/plain": [
              "(413, 8)"
            ]
          },
          "metadata": {
            "tags": []
          },
          "execution_count": 258
        }
      ]
    },
    {
      "cell_type": "code",
      "metadata": {
        "id": "_4_jaya-PNnu"
      },
      "source": [
        "sur_sample = resample(sur_df,replace = False,n_samples = 178,random_state = 42)\n",
        "\n",
        "#get a random sample of data from passengers who did not survive"
      ],
      "execution_count": 259,
      "outputs": []
    },
    {
      "cell_type": "code",
      "metadata": {
        "colab": {
          "base_uri": "https://localhost:8080/",
          "height": 0
        },
        "id": "eDMU379VPPXx",
        "outputId": "5efddbf6-4658-4893-998b-070704472aad"
      },
      "source": [
        "#concatenate both datasets to get one downsampled and proportionate dataset\n",
        "\n",
        "newdf = pd.concat([sur_sample,sur1_df])\n",
        "\n",
        "sns.countplot(x = 'Survived',data = newdf,palette='Set1')\n",
        "plt.title('Checking if data is downsampled proportionately')\n",
        "\n",
        "plt.show()"
      ],
      "execution_count": 260,
      "outputs": [
        {
          "output_type": "display_data",
          "data": {
            "image/png": "[encoded data removed]",
            "text/plain": [
              "<Figure size 432x288 with 1 Axes>"
            ]
          },
          "metadata": {
            "tags": [],
            "needs_background": "light"
          }
        }
      ]
    },
    {
      "cell_type": "markdown",
      "metadata": {
        "id": "rXOFODZmN1BP"
      },
      "source": [
        "Now that the data is well sampled (proportionally), lets proceed to encode categorical features."
      ]
    },
    {
      "cell_type": "markdown",
      "metadata": {
        "id": "1G0CCqx2OAQj"
      },
      "source": [
        "### Data Pre-processing"
      ]
    },
    {
      "cell_type": "markdown",
      "metadata": {
        "id": "71Qohy-GOGbP"
      },
      "source": [
        "First encode the categorical columns."
      ]
    },
    {
      "cell_type": "code",
      "metadata": {
        "colab": {
          "base_uri": "https://localhost:8080/"
        },
        "id": "A97lkQ5OQSZA",
        "outputId": "7e22b95e-821b-4453-f4ee-c97cd7458cfd"
      },
      "source": [
        "#now lets encode and scale our data\n",
        "\n",
        "newdf.dtypes"
      ],
      "execution_count": 261,
      "outputs": [
        {
          "output_type": "execute_result",
          "data": {
            "text/plain": [
              "Survived      int64\n",
              "Pclass        int64\n",
              "Sex          object\n",
              "Age         float64\n",
              "SibSp         int64\n",
              "Parch         int64\n",
              "Fare        float64\n",
              "Embarked     object\n",
              "dtype: object"
            ]
          },
          "metadata": {
            "tags": []
          },
          "execution_count": 261
        }
      ]
    },
    {
      "cell_type": "code",
      "metadata": {
        "colab": {
          "base_uri": "https://localhost:8080/",
          "height": 0
        },
        "id": "gmvzwgVCRFzC",
        "outputId": "50e3a892-cc1f-4170-8010-4925c4c6e86d"
      },
      "source": [
        "from sklearn.preprocessing import LabelEncoder\n",
        "\n",
        "le = LabelEncoder()\n",
        "\n",
        "enc = newdf.dtypes == object\n",
        "\n",
        "myfilt = newdf.columns[enc].tolist()\n",
        "\n",
        "newdf[myfilt] = newdf[myfilt].apply(lambda x:le.fit_transform(x))\n",
        "\n",
        "newdf.head(2)\n",
        "\n",
        "#now the categorical columns are encoded"
      ],
      "execution_count": 262,
      "outputs": [
        {
          "output_type": "execute_result",
          "data": {
            "text/html": [
              "<div>\n",
              "<style scoped>\n",
              "    .dataframe tbody tr th:only-of-type {\n",
              "        vertical-align: middle;\n",
              "    }\n",
              "\n",
              "    .dataframe tbody tr th {\n",
              "        vertical-align: top;\n",
              "    }\n",
              "\n",
              "    .dataframe thead th {\n",
              "        text-align: right;\n",
              "    }\n",
              "</style>\n",
              "<table border=\"1\" class=\"dataframe\">\n",
              "  <thead>\n",
              "    <tr style=\"text-align: right;\">\n",
              "      <th></th>\n",
              "      <th>Survived</th>\n",
              "      <th>Pclass</th>\n",
              "      <th>Sex</th>\n",
              "      <th>Age</th>\n",
              "      <th>SibSp</th>\n",
              "      <th>Parch</th>\n",
              "      <th>Fare</th>\n",
              "      <th>Embarked</th>\n",
              "    </tr>\n",
              "  </thead>\n",
              "  <tbody>\n",
              "    <tr>\n",
              "      <th>854</th>\n",
              "      <td>0</td>\n",
              "      <td>2</td>\n",
              "      <td>0</td>\n",
              "      <td>44.0</td>\n",
              "      <td>1</td>\n",
              "      <td>0</td>\n",
              "      <td>26.00</td>\n",
              "      <td>2</td>\n",
              "    </tr>\n",
              "    <tr>\n",
              "      <th>767</th>\n",
              "      <td>0</td>\n",
              "      <td>3</td>\n",
              "      <td>0</td>\n",
              "      <td>30.5</td>\n",
              "      <td>0</td>\n",
              "      <td>0</td>\n",
              "      <td>7.75</td>\n",
              "      <td>1</td>\n",
              "    </tr>\n",
              "  </tbody>\n",
              "</table>\n",
              "</div>"
            ],
            "text/plain": [
              "     Survived  Pclass  Sex   Age  SibSp  Parch   Fare  Embarked\n",
              "854         0       2    0  44.0      1      0  26.00         2\n",
              "767         0       3    0  30.5      0      0   7.75         1"
            ]
          },
          "metadata": {
            "tags": []
          },
          "execution_count": 262
        }
      ]
    },
    {
      "cell_type": "code",
      "metadata": {
        "colab": {
          "base_uri": "https://localhost:8080/"
        },
        "id": "DIfDhc2cSQ9F",
        "outputId": "1fd73147-6c25-42f1-c6cb-8e223bc54ba4"
      },
      "source": [
        "newdf.columns"
      ],
      "execution_count": 263,
      "outputs": [
        {
          "output_type": "execute_result",
          "data": {
            "text/plain": [
              "Index(['Survived', 'Pclass', 'Sex', 'Age', 'SibSp', 'Parch', 'Fare',\n",
              "       'Embarked'],\n",
              "      dtype='object')"
            ]
          },
          "metadata": {
            "tags": []
          },
          "execution_count": 263
        }
      ]
    },
    {
      "cell_type": "markdown",
      "metadata": {
        "id": "3iQWeXsSOMlQ"
      },
      "source": [
        "Next, scale the data to avoid effect of any remaining outliers on model. For this we use **StandardScaler()**"
      ]
    },
    {
      "cell_type": "code",
      "metadata": {
        "id": "NZKPS5ZHR45E"
      },
      "source": [
        "#lets get to implementation of problem\n",
        "\n",
        "from sklearn.preprocessing import StandardScaler\n",
        "\n",
        "feat = ['Pclass', 'Sex', 'Age', 'SibSp', 'Parch', 'Fare','Embarked']\n",
        "\n",
        "X = newdf[feat].values\n",
        "\n",
        "y = newdf['Survived'].values"
      ],
      "execution_count": 264,
      "outputs": []
    },
    {
      "cell_type": "code",
      "metadata": {
        "id": "UWSComzASi0r"
      },
      "source": [
        "scaler = StandardScaler()\n",
        "\n",
        "from sklearn.model_selection import train_test_split\n",
        "\n",
        "X_train,X_test,y_train,y_test = train_test_split(X,y,test_size = 0.2,random_state = 0)\n",
        "\n",
        "X_train = scaler.fit_transform(X_train)\n",
        "\n",
        "X_test = scaler.transform(X_test)"
      ],
      "execution_count": 265,
      "outputs": []
    },
    {
      "cell_type": "markdown",
      "metadata": {
        "id": "4LkA7s2iOZET"
      },
      "source": [
        "**Now lets fit a K Nearest Neighbours model and test with 80 - 20 train - test ratio.**"
      ]
    },
    {
      "cell_type": "code",
      "metadata": {
        "colab": {
          "base_uri": "https://localhost:8080/"
        },
        "id": "6XpLbp0ZTL11",
        "outputId": "1720d4e4-78e8-4851-845d-73019b52ca34"
      },
      "source": [
        "#now fit the KNN model\n",
        "\n",
        "from sklearn.neighbors import KNeighborsClassifier\n",
        "\n",
        "model1 = KNeighborsClassifier(n_neighbors=5)\n",
        "\n",
        "model1.fit(X_train,y_train)"
      ],
      "execution_count": 266,
      "outputs": [
        {
          "output_type": "execute_result",
          "data": {
            "text/plain": [
              "KNeighborsClassifier(algorithm='auto', leaf_size=30, metric='minkowski',\n",
              "                     metric_params=None, n_jobs=None, n_neighbors=5, p=2,\n",
              "                     weights='uniform')"
            ]
          },
          "metadata": {
            "tags": []
          },
          "execution_count": 266
        }
      ]
    },
    {
      "cell_type": "code",
      "metadata": {
        "colab": {
          "base_uri": "https://localhost:8080/"
        },
        "id": "vLI6h1kATlhR",
        "outputId": "1b3739cf-0a83-4f9f-f777-9cae5b876b20"
      },
      "source": [
        "#now check the accuracy metrics\n",
        "\n",
        "# Model 1\n",
        "\n",
        "mypred1 = model1.predict(X_test)\n",
        "from sklearn.metrics import accuracy_score,confusion_matrix,f1_score\n",
        "\n",
        "print('accuracy : ',accuracy_score(mypred1,y_test) * 100)\n",
        "\n",
        "print('')\n",
        "print(confusion_matrix(mypred1,y_test))\n",
        "print('')\n",
        "print('f1 Score : ',f1_score(mypred1,y_test) * 100)\n",
        "# 69.44 % accuracy with 0.2 test size and automatic metrics"
      ],
      "execution_count": 267,
      "outputs": [
        {
          "output_type": "stream",
          "text": [
            "accuracy :  70.4225352112676\n",
            "\n",
            "[[30 15]\n",
            " [ 6 20]]\n",
            "\n",
            "f1 Score :  65.57377049180327\n"
          ],
          "name": "stdout"
        }
      ]
    },
    {
      "cell_type": "markdown",
      "metadata": {
        "id": "DXjIC_KhOjzc"
      },
      "source": [
        "**About 70.4 % general accuracy with an F1_ Score of  65.57%. Lets see if the F1_score and accuracy will increase with optimization of test_size.**"
      ]
    },
    {
      "cell_type": "markdown",
      "metadata": {
        "id": "VFlMezIRUP9S"
      },
      "source": [
        "**Model 2 ( 70 - 30 ) test size ratio.**"
      ]
    },
    {
      "cell_type": "code",
      "metadata": {
        "id": "BfwSHa-uT280"
      },
      "source": [
        "#now, changing the test size and other metrics\n",
        "\n",
        "from sklearn.preprocessing import StandardScaler\n",
        "\n",
        "feat = ['Pclass', 'Sex', 'Age', 'SibSp', 'Parch', 'Fare','Embarked']\n",
        "\n",
        "X = newdf[feat].values\n",
        "\n",
        "y = newdf['Survived'].values"
      ],
      "execution_count": 268,
      "outputs": []
    },
    {
      "cell_type": "code",
      "metadata": {
        "colab": {
          "base_uri": "https://localhost:8080/"
        },
        "id": "BKXfE8mEU-ni",
        "outputId": "9ef0a733-11f1-4351-9430-411e6148caf1"
      },
      "source": [
        "# Model 2\n",
        "scaler = StandardScaler()\n",
        "\n",
        "from sklearn.model_selection import train_test_split\n",
        "\n",
        "X_train,X_test,y_train,y_test = train_test_split(X,y,test_size = 0.3,random_state = 0)\n",
        "\n",
        "X_train = scaler.fit_transform(X_train)\n",
        "\n",
        "X_test = scaler.transform(X_test)\n",
        "\n",
        "from sklearn.neighbors import KNeighborsClassifier\n",
        "\n",
        "model2 = KNeighborsClassifier(n_neighbors=5,metric = 'minkowski')\n",
        "\n",
        "model2.fit(X_train,y_train)\n",
        "\n",
        "y_pred = model2.predict(X_test)\n",
        "from sklearn.metrics import accuracy_score,confusion_matrix,f1_score\n",
        "\n",
        "print('accuracy : ',accuracy_score(y_pred,y_test) * 100)\n",
        "\n",
        "print('')\n",
        "print(confusion_matrix(y_pred,y_test))\n",
        "print('')\n",
        "print('f1 Score : ',f1_score(y_pred,y_test) * 100)"
      ],
      "execution_count": 269,
      "outputs": [
        {
          "output_type": "stream",
          "text": [
            "accuracy :  71.02803738317756\n",
            "\n",
            "[[47 22]\n",
            " [ 9 29]]\n",
            "\n",
            "f1 Score :  65.1685393258427\n"
          ],
          "name": "stdout"
        }
      ]
    },
    {
      "cell_type": "markdown",
      "metadata": {
        "id": "cGyjSfZWO4Dz"
      },
      "source": [
        "**On using a manhattan metric distance, the accuracy score remains constant.**\n",
        "\n",
        "**Increasing the test size to 30 % increases the accuracy from 70 % to 71 % while the f1_score is at 65.1%.**"
      ]
    },
    {
      "cell_type": "markdown",
      "metadata": {
        "id": "xQvcDmkePk6S"
      },
      "source": [
        "**Model 3 (Test size 60 - 40 )**"
      ]
    },
    {
      "cell_type": "code",
      "metadata": {
        "colab": {
          "base_uri": "https://localhost:8080/"
        },
        "id": "MvQz3Kw-WPtw",
        "outputId": "ee856817-f29c-4a65-e1c6-50c5c46a011f"
      },
      "source": [
        "#now, changing the test size and other metrics\n",
        "\n",
        "# Model 3\n",
        "\n",
        "from sklearn.preprocessing import StandardScaler\n",
        "\n",
        "feat = ['Pclass', 'Sex', 'Age', 'SibSp', 'Parch', 'Fare','Embarked']\n",
        "\n",
        "X = newdf[feat].values\n",
        "\n",
        "y = newdf['Survived'].values\n",
        "\n",
        "scaler = StandardScaler()\n",
        "\n",
        "from sklearn.model_selection import train_test_split\n",
        "\n",
        "X_train,X_test,y_train,y_test = train_test_split(X,y,test_size = 0.4,random_state = 0)\n",
        "\n",
        "X_train = scaler.fit_transform(X_train)\n",
        "\n",
        "X_test = scaler.transform(X_test)\n",
        "\n",
        "from sklearn.neighbors import KNeighborsClassifier\n",
        "\n",
        "mymodel = KNeighborsClassifier(n_neighbors=9,metric = 'minkowski')\n",
        "\n",
        "mymodel.fit(X_train,y_train)\n",
        "\n",
        "mypred = mymodel.predict(X_test)\n",
        "from sklearn.metrics import accuracy_score,confusion_matrix,f1_score\n",
        "\n",
        "print('accuracy : ',accuracy_score(mypred,y_test) * 100)\n",
        "\n",
        "print('')\n",
        "print(confusion_matrix(mypred,y_test))\n",
        "print('')\n",
        "print('f1 Score : ',f1_score(mypred,y_test) * 100)"
      ],
      "execution_count": 270,
      "outputs": [
        {
          "output_type": "stream",
          "text": [
            "accuracy :  76.05633802816901\n",
            "\n",
            "[[56 17]\n",
            " [17 52]]\n",
            "\n",
            "f1 Score :  75.36231884057972\n"
          ],
          "name": "stdout"
        }
      ]
    },
    {
      "cell_type": "markdown",
      "metadata": {
        "id": "HT-JIUvGPwjc"
      },
      "source": [
        "**So far, the highest accuracy and F1_scores at 76% and 75 % respectively when the test size is at 60 - 40**"
      ]
    },
    {
      "cell_type": "markdown",
      "metadata": {
        "id": "AoJAaY3sQEKb"
      },
      "source": [
        "Lets try to use **LDA as our Dimensionality reduction** technique and check our metrics."
      ]
    },
    {
      "cell_type": "code",
      "metadata": {
        "colab": {
          "base_uri": "https://localhost:8080/"
        },
        "id": "x2xKzzQzWp4G",
        "outputId": "95fecf97-dc89-4711-ee32-2d939c3dd8a9"
      },
      "source": [
        "\n",
        "# Model 4\n",
        "\n",
        "from sklearn.preprocessing import StandardScaler\n",
        "\n",
        "feat = ['Pclass', 'Sex', 'Age', 'SibSp', 'Parch', 'Fare','Embarked']\n",
        "\n",
        "X = newdf[feat].values\n",
        "\n",
        "y = newdf['Survived'].values\n",
        "\n",
        "scaler = StandardScaler()\n",
        "\n",
        "from sklearn.model_selection import train_test_split\n",
        "\n",
        "X_train,X_test,y_train,y_test = train_test_split(X,y,test_size = 0.2,random_state = 0)\n",
        "\n",
        "X_train = scaler.fit_transform(X_train)\n",
        "\n",
        "X_test = scaler.transform(X_test)\n",
        "\n",
        "from sklearn.discriminant_analysis import LinearDiscriminantAnalysis\n",
        "\n",
        "lda =  LinearDiscriminantAnalysis(n_components=1)\n",
        "\n",
        "X_train = lda.fit_transform(X_train,y_train)\n",
        "\n",
        "X_test = lda.transform(X_test)\n",
        "\n",
        "\n",
        "\n",
        "from sklearn.neighbors import KNeighborsClassifier\n",
        "\n",
        "ldamodel = KNeighborsClassifier(n_neighbors=5,metric = 'manhattan')\n",
        "\n",
        "ldamodel.fit(X_train,y_train)\n",
        "\n",
        "ypred = ldamodel.predict(X_test)\n",
        "from sklearn.metrics import accuracy_score,confusion_matrix,f1_score\n",
        "\n",
        "print('accuracy : ',accuracy_score(ypred,y_test) * 100)\n",
        "\n",
        "print('')\n",
        "print(confusion_matrix(ypred,y_test))\n",
        "print('')\n",
        "print('f1 Score : ',f1_score(ypred,y_test) * 100)"
      ],
      "execution_count": 271,
      "outputs": [
        {
          "output_type": "stream",
          "text": [
            "accuracy :  73.23943661971832\n",
            "\n",
            "[[30 13]\n",
            " [ 6 22]]\n",
            "\n",
            "f1 Score :  69.84126984126985\n"
          ],
          "name": "stdout"
        }
      ]
    },
    {
      "cell_type": "markdown",
      "metadata": {
        "id": "W7vDgmNBQZ4r"
      },
      "source": [
        "On applying a Linear Discriminant Analysis reduction technique, accuracy reduces to 75 % while the f1_score reduces to 69.8%"
      ]
    },
    {
      "cell_type": "markdown",
      "metadata": {
        "id": "XUprtSsKQpex"
      },
      "source": [
        "## Applying model on Test data\n",
        "\n",
        "Since **Model 3 (60 - 40 train - test ratio)** had by far the best metrics including a very high F1_score, it means that it can generalise on unseen data. We therefore pick Model 3 as our model to fit on test data."
      ]
    },
    {
      "cell_type": "code",
      "metadata": {
        "colab": {
          "base_uri": "https://localhost:8080/",
          "height": 111
        },
        "id": "KHFvyxtYYT4h",
        "outputId": "407d46b1-94d7-478d-d9ec-504a8630c1e8"
      },
      "source": [
        "#now fit the third the model in the test data\n",
        "\n",
        "# encode test data\n",
        "\n",
        "#first remove the passenger ID column\n",
        "\n",
        "mydata = test_df['PassengerId']\n",
        "\n",
        "test_df.drop(['PassengerId'],axis=1,inplace=True)\n",
        "\n",
        "from sklearn.preprocessing import LabelEncoder\n",
        "\n",
        "le = LabelEncoder()\n",
        "\n",
        "enc = test_df.dtypes == object\n",
        "\n",
        "myfilt = test_df.columns[enc].tolist()\n",
        "\n",
        "test_df[myfilt] = test_df[myfilt].apply(lambda x:le.fit_transform(x))\n",
        "\n",
        "test_df.head(2)\n"
      ],
      "execution_count": 272,
      "outputs": [
        {
          "output_type": "execute_result",
          "data": {
            "text/html": [
              "<div>\n",
              "<style scoped>\n",
              "    .dataframe tbody tr th:only-of-type {\n",
              "        vertical-align: middle;\n",
              "    }\n",
              "\n",
              "    .dataframe tbody tr th {\n",
              "        vertical-align: top;\n",
              "    }\n",
              "\n",
              "    .dataframe thead th {\n",
              "        text-align: right;\n",
              "    }\n",
              "</style>\n",
              "<table border=\"1\" class=\"dataframe\">\n",
              "  <thead>\n",
              "    <tr style=\"text-align: right;\">\n",
              "      <th></th>\n",
              "      <th>Pclass</th>\n",
              "      <th>Sex</th>\n",
              "      <th>Age</th>\n",
              "      <th>SibSp</th>\n",
              "      <th>Parch</th>\n",
              "      <th>Fare</th>\n",
              "      <th>Embarked</th>\n",
              "    </tr>\n",
              "  </thead>\n",
              "  <tbody>\n",
              "    <tr>\n",
              "      <th>0</th>\n",
              "      <td>3</td>\n",
              "      <td>1</td>\n",
              "      <td>34.5</td>\n",
              "      <td>0</td>\n",
              "      <td>0</td>\n",
              "      <td>7.8292</td>\n",
              "      <td>1</td>\n",
              "    </tr>\n",
              "    <tr>\n",
              "      <th>1</th>\n",
              "      <td>3</td>\n",
              "      <td>0</td>\n",
              "      <td>47.0</td>\n",
              "      <td>1</td>\n",
              "      <td>0</td>\n",
              "      <td>7.0000</td>\n",
              "      <td>2</td>\n",
              "    </tr>\n",
              "  </tbody>\n",
              "</table>\n",
              "</div>"
            ],
            "text/plain": [
              "   Pclass  Sex   Age  SibSp  Parch    Fare  Embarked\n",
              "0       3    1  34.5      0      0  7.8292         1\n",
              "1       3    0  47.0      1      0  7.0000         2"
            ]
          },
          "metadata": {
            "tags": []
          },
          "execution_count": 272
        }
      ]
    },
    {
      "cell_type": "code",
      "metadata": {
        "id": "P6GJpUU4YcqN"
      },
      "source": [
        "# fit  Model 3\n",
        "\n",
        "from sklearn.preprocessing import StandardScaler\n",
        "\n",
        "feat = ['Pclass', 'Sex', 'Age', 'SibSp', 'Parch', 'Fare','Embarked']\n",
        "\n",
        "X = test_df[feat].values\n",
        "\n",
        "#scale test data just as we scaled train data\n",
        "\n",
        "X = scaler.fit_transform(X)\n",
        "\n",
        "# now predict on test data\n",
        "\n",
        "mypred = mymodel.predict(X)\n"
      ],
      "execution_count": 273,
      "outputs": []
    },
    {
      "cell_type": "markdown",
      "metadata": {
        "id": "3dlWB16KRN-a"
      },
      "source": [
        "Now that the model has been fitted on test data, we can append the target column ( survived ) column to the initial test data."
      ]
    },
    {
      "cell_type": "code",
      "metadata": {
        "colab": {
          "base_uri": "https://localhost:8080/",
          "height": 238
        },
        "id": "AFCkHkFtayG_",
        "outputId": "febe1c49-cb8f-4f3a-bb7c-49fb129e526b"
      },
      "source": [
        "#append the results of model to those of input data\n",
        "\n",
        "final_df = pd.read_csv('/content/test (1) (1).csv')\n",
        "final_df['Survived'] = mypred\n",
        "\n",
        "\n",
        "final_df.head(5)\n"
      ],
      "execution_count": 274,
      "outputs": [
        {
          "output_type": "execute_result",
          "data": {
            "text/html": [
              "<div>\n",
              "<style scoped>\n",
              "    .dataframe tbody tr th:only-of-type {\n",
              "        vertical-align: middle;\n",
              "    }\n",
              "\n",
              "    .dataframe tbody tr th {\n",
              "        vertical-align: top;\n",
              "    }\n",
              "\n",
              "    .dataframe thead th {\n",
              "        text-align: right;\n",
              "    }\n",
              "</style>\n",
              "<table border=\"1\" class=\"dataframe\">\n",
              "  <thead>\n",
              "    <tr style=\"text-align: right;\">\n",
              "      <th></th>\n",
              "      <th>PassengerId</th>\n",
              "      <th>Pclass</th>\n",
              "      <th>Name</th>\n",
              "      <th>Sex</th>\n",
              "      <th>Age</th>\n",
              "      <th>SibSp</th>\n",
              "      <th>Parch</th>\n",
              "      <th>Ticket</th>\n",
              "      <th>Fare</th>\n",
              "      <th>Cabin</th>\n",
              "      <th>Embarked</th>\n",
              "      <th>Survived</th>\n",
              "    </tr>\n",
              "  </thead>\n",
              "  <tbody>\n",
              "    <tr>\n",
              "      <th>0</th>\n",
              "      <td>892</td>\n",
              "      <td>3</td>\n",
              "      <td>Kelly, Mr. James</td>\n",
              "      <td>male</td>\n",
              "      <td>34.5</td>\n",
              "      <td>0</td>\n",
              "      <td>0</td>\n",
              "      <td>330911</td>\n",
              "      <td>7.8292</td>\n",
              "      <td>NaN</td>\n",
              "      <td>Q</td>\n",
              "      <td>0</td>\n",
              "    </tr>\n",
              "    <tr>\n",
              "      <th>1</th>\n",
              "      <td>893</td>\n",
              "      <td>3</td>\n",
              "      <td>Wilkes, Mrs. James (Ellen Needs)</td>\n",
              "      <td>female</td>\n",
              "      <td>47.0</td>\n",
              "      <td>1</td>\n",
              "      <td>0</td>\n",
              "      <td>363272</td>\n",
              "      <td>7.0000</td>\n",
              "      <td>NaN</td>\n",
              "      <td>S</td>\n",
              "      <td>1</td>\n",
              "    </tr>\n",
              "    <tr>\n",
              "      <th>2</th>\n",
              "      <td>894</td>\n",
              "      <td>2</td>\n",
              "      <td>Myles, Mr. Thomas Francis</td>\n",
              "      <td>male</td>\n",
              "      <td>62.0</td>\n",
              "      <td>0</td>\n",
              "      <td>0</td>\n",
              "      <td>240276</td>\n",
              "      <td>9.6875</td>\n",
              "      <td>NaN</td>\n",
              "      <td>Q</td>\n",
              "      <td>0</td>\n",
              "    </tr>\n",
              "    <tr>\n",
              "      <th>3</th>\n",
              "      <td>895</td>\n",
              "      <td>3</td>\n",
              "      <td>Wirz, Mr. Albert</td>\n",
              "      <td>male</td>\n",
              "      <td>27.0</td>\n",
              "      <td>0</td>\n",
              "      <td>0</td>\n",
              "      <td>315154</td>\n",
              "      <td>8.6625</td>\n",
              "      <td>NaN</td>\n",
              "      <td>S</td>\n",
              "      <td>0</td>\n",
              "    </tr>\n",
              "    <tr>\n",
              "      <th>4</th>\n",
              "      <td>896</td>\n",
              "      <td>3</td>\n",
              "      <td>Hirvonen, Mrs. Alexander (Helga E Lindqvist)</td>\n",
              "      <td>female</td>\n",
              "      <td>22.0</td>\n",
              "      <td>1</td>\n",
              "      <td>1</td>\n",
              "      <td>3101298</td>\n",
              "      <td>12.2875</td>\n",
              "      <td>NaN</td>\n",
              "      <td>S</td>\n",
              "      <td>1</td>\n",
              "    </tr>\n",
              "  </tbody>\n",
              "</table>\n",
              "</div>"
            ],
            "text/plain": [
              "   PassengerId  Pclass  ... Embarked Survived\n",
              "0          892       3  ...        Q        0\n",
              "1          893       3  ...        S        1\n",
              "2          894       2  ...        Q        0\n",
              "3          895       3  ...        S        0\n",
              "4          896       3  ...        S        1\n",
              "\n",
              "[5 rows x 12 columns]"
            ]
          },
          "metadata": {
            "tags": []
          },
          "execution_count": 274
        }
      ]
    },
    {
      "cell_type": "markdown",
      "metadata": {
        "id": "50R3Dri_TaD5"
      },
      "source": [
        "**Now we have our test data with the Survival status predictions appended for all test data passengers.**"
      ]
    },
    {
      "cell_type": "markdown",
      "metadata": {
        "id": "CPfFRyO7ikYQ"
      },
      "source": [
        "## Recommendations\n",
        "\n",
        "Since Model 3 performed a better job of classification, we used it for our Titanic test data. This model has a high F1_score ensuring that our True Positives in the confusion matrix are comparatively high, hence doing a good job of precision and recall."
      ]
    }
  ]
}