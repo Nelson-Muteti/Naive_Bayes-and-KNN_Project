{
  "nbformat": 4,
  "nbformat_minor": 0,
  "metadata": {
    "colab": {
      "name": "Nelson_Muteti_Naive_Bayes_IP_Week_9.ipynb",
      "provenance": [],
      "collapsed_sections": [],
      "authorship_tag": "ABX9TyNI+l7YBnYH/EZgxLSuL9An",
      "include_colab_link": true
    },
    "kernelspec": {
      "name": "python3",
      "display_name": "Python 3"
    },
    "language_info": {
      "name": "python"
    }
  },
  "cells": [
    {
      "cell_type": "markdown",
      "metadata": {
        "id": "view-in-github",
        "colab_type": "text"
      },
      "source": [
        "<a href=\"https://colab.research.google.com/github/Nelson-Muteti/Naive_Bayes-and-KNN_Project/blob/main/Nelson_Muteti_Naive_Bayes_IP_Week_9.ipynb\" target=\"_parent\"><img src=\"https://colab.research.google.com/assets/colab-badge.svg\" alt=\"Open In Colab\"/></a>"
      ]
    },
    {
      "cell_type": "markdown",
      "metadata": {
        "id": "qycUcqSqaVvh"
      },
      "source": [
        "## Defining The Question\n",
        "\n",
        "We are supposed to build a Naive-Bayes Machine learning model to be able to classify emails as either Spam or not Spam from given frequencies of occurences of certain words in the emails."
      ]
    },
    {
      "cell_type": "code",
      "metadata": {
        "id": "FP_x1fyHhzo3"
      },
      "source": [
        "#import libraries to use in the model\n",
        "import pandas as pd\n",
        "import numpy as np"
      ],
      "execution_count": 306,
      "outputs": []
    },
    {
      "cell_type": "markdown",
      "metadata": {
        "id": "DCMYZGBta36o"
      },
      "source": [
        "## Defining Metrics for Success\n",
        "\n",
        "A succesful project will  conduct Data preparation, data cleaning,evaluation, data Modelling and finally optimization of the model to classify emails as spam or not."
      ]
    },
    {
      "cell_type": "markdown",
      "metadata": {
        "id": "s0GobDTObcOQ"
      },
      "source": [
        "## Understanding The context\n",
        "\n",
        "The context here deals with Spam emails. Spam is just a term for unsolicited bulk email messages. Spam encompasses everything from ads for products and services, drugs,money scams, stock market pump-and-dump schemes, malware, phishing and everything in between. It is important to know how to classify emails as spam or not spam inorder to help consumers."
      ]
    },
    {
      "cell_type": "markdown",
      "metadata": {
        "id": "GW-JeVw6cLIo"
      },
      "source": [
        "## Experimental Design\n",
        "\n",
        "Since the data seems to be mostly prepared, we will do basic preprocessing and then some EDA and finally build our Naive_Bayes model."
      ]
    },
    {
      "cell_type": "markdown",
      "metadata": {
        "id": "vy5lFtSRcaf2"
      },
      "source": [
        "## Read the data"
      ]
    },
    {
      "cell_type": "code",
      "metadata": {
        "id": "I3d1wcOPmJao"
      },
      "source": [
        "#load the data\n",
        "df = pd.read_csv('/content/spambase.data')"
      ],
      "execution_count": 307,
      "outputs": []
    },
    {
      "cell_type": "code",
      "metadata": {
        "colab": {
          "base_uri": "https://localhost:8080/",
          "height": 0
        },
        "id": "2eiQUMJxmPGC",
        "outputId": "4b97ecf8-4993-4e1b-d1ce-76bb28678327"
      },
      "source": [
        "#view the data\n",
        "df.head(2)"
      ],
      "execution_count": 308,
      "outputs": [
        {
          "output_type": "execute_result",
          "data": {
            "text/html": [
              "<div>\n",
              "<style scoped>\n",
              "    .dataframe tbody tr th:only-of-type {\n",
              "        vertical-align: middle;\n",
              "    }\n",
              "\n",
              "    .dataframe tbody tr th {\n",
              "        vertical-align: top;\n",
              "    }\n",
              "\n",
              "    .dataframe thead th {\n",
              "        text-align: right;\n",
              "    }\n",
              "</style>\n",
              "<table border=\"1\" class=\"dataframe\">\n",
              "  <thead>\n",
              "    <tr style=\"text-align: right;\">\n",
              "      <th></th>\n",
              "      <th>0</th>\n",
              "      <th>0.64</th>\n",
              "      <th>0.64.1</th>\n",
              "      <th>0.1</th>\n",
              "      <th>0.32</th>\n",
              "      <th>0.2</th>\n",
              "      <th>0.3</th>\n",
              "      <th>0.4</th>\n",
              "      <th>0.5</th>\n",
              "      <th>0.6</th>\n",
              "      <th>0.7</th>\n",
              "      <th>0.64.2</th>\n",
              "      <th>0.8</th>\n",
              "      <th>0.9</th>\n",
              "      <th>0.10</th>\n",
              "      <th>0.32.1</th>\n",
              "      <th>0.11</th>\n",
              "      <th>1.29</th>\n",
              "      <th>1.93</th>\n",
              "      <th>0.12</th>\n",
              "      <th>0.96</th>\n",
              "      <th>0.13</th>\n",
              "      <th>0.14</th>\n",
              "      <th>0.15</th>\n",
              "      <th>0.16</th>\n",
              "      <th>0.17</th>\n",
              "      <th>0.18</th>\n",
              "      <th>0.19</th>\n",
              "      <th>0.20</th>\n",
              "      <th>0.21</th>\n",
              "      <th>0.22</th>\n",
              "      <th>0.23</th>\n",
              "      <th>0.24</th>\n",
              "      <th>0.25</th>\n",
              "      <th>0.26</th>\n",
              "      <th>0.27</th>\n",
              "      <th>0.28</th>\n",
              "      <th>0.29</th>\n",
              "      <th>0.30</th>\n",
              "      <th>0.31</th>\n",
              "      <th>0.32.2</th>\n",
              "      <th>0.33</th>\n",
              "      <th>0.34</th>\n",
              "      <th>0.35</th>\n",
              "      <th>0.36</th>\n",
              "      <th>0.37</th>\n",
              "      <th>0.38</th>\n",
              "      <th>0.39</th>\n",
              "      <th>0.40</th>\n",
              "      <th>0.41</th>\n",
              "      <th>0.42</th>\n",
              "      <th>0.778</th>\n",
              "      <th>0.43</th>\n",
              "      <th>0.44</th>\n",
              "      <th>3.756</th>\n",
              "      <th>61</th>\n",
              "      <th>278</th>\n",
              "      <th>1</th>\n",
              "    </tr>\n",
              "  </thead>\n",
              "  <tbody>\n",
              "    <tr>\n",
              "      <th>0</th>\n",
              "      <td>0.21</td>\n",
              "      <td>0.28</td>\n",
              "      <td>0.50</td>\n",
              "      <td>0.0</td>\n",
              "      <td>0.14</td>\n",
              "      <td>0.28</td>\n",
              "      <td>0.21</td>\n",
              "      <td>0.07</td>\n",
              "      <td>0.00</td>\n",
              "      <td>0.94</td>\n",
              "      <td>0.21</td>\n",
              "      <td>0.79</td>\n",
              "      <td>0.65</td>\n",
              "      <td>0.21</td>\n",
              "      <td>0.14</td>\n",
              "      <td>0.14</td>\n",
              "      <td>0.07</td>\n",
              "      <td>0.28</td>\n",
              "      <td>3.47</td>\n",
              "      <td>0.00</td>\n",
              "      <td>1.59</td>\n",
              "      <td>0.0</td>\n",
              "      <td>0.43</td>\n",
              "      <td>0.43</td>\n",
              "      <td>0.0</td>\n",
              "      <td>0.0</td>\n",
              "      <td>0.0</td>\n",
              "      <td>0.0</td>\n",
              "      <td>0.0</td>\n",
              "      <td>0.0</td>\n",
              "      <td>0.0</td>\n",
              "      <td>0.0</td>\n",
              "      <td>0.0</td>\n",
              "      <td>0.0</td>\n",
              "      <td>0.0</td>\n",
              "      <td>0.0</td>\n",
              "      <td>0.07</td>\n",
              "      <td>0.0</td>\n",
              "      <td>0.0</td>\n",
              "      <td>0.00</td>\n",
              "      <td>0.0</td>\n",
              "      <td>0.0</td>\n",
              "      <td>0.00</td>\n",
              "      <td>0.0</td>\n",
              "      <td>0.00</td>\n",
              "      <td>0.00</td>\n",
              "      <td>0.0</td>\n",
              "      <td>0.0</td>\n",
              "      <td>0.00</td>\n",
              "      <td>0.132</td>\n",
              "      <td>0.0</td>\n",
              "      <td>0.372</td>\n",
              "      <td>0.180</td>\n",
              "      <td>0.048</td>\n",
              "      <td>5.114</td>\n",
              "      <td>101</td>\n",
              "      <td>1028</td>\n",
              "      <td>1</td>\n",
              "    </tr>\n",
              "    <tr>\n",
              "      <th>1</th>\n",
              "      <td>0.06</td>\n",
              "      <td>0.00</td>\n",
              "      <td>0.71</td>\n",
              "      <td>0.0</td>\n",
              "      <td>1.23</td>\n",
              "      <td>0.19</td>\n",
              "      <td>0.19</td>\n",
              "      <td>0.12</td>\n",
              "      <td>0.64</td>\n",
              "      <td>0.25</td>\n",
              "      <td>0.38</td>\n",
              "      <td>0.45</td>\n",
              "      <td>0.12</td>\n",
              "      <td>0.00</td>\n",
              "      <td>1.75</td>\n",
              "      <td>0.06</td>\n",
              "      <td>0.06</td>\n",
              "      <td>1.03</td>\n",
              "      <td>1.36</td>\n",
              "      <td>0.32</td>\n",
              "      <td>0.51</td>\n",
              "      <td>0.0</td>\n",
              "      <td>1.16</td>\n",
              "      <td>0.06</td>\n",
              "      <td>0.0</td>\n",
              "      <td>0.0</td>\n",
              "      <td>0.0</td>\n",
              "      <td>0.0</td>\n",
              "      <td>0.0</td>\n",
              "      <td>0.0</td>\n",
              "      <td>0.0</td>\n",
              "      <td>0.0</td>\n",
              "      <td>0.0</td>\n",
              "      <td>0.0</td>\n",
              "      <td>0.0</td>\n",
              "      <td>0.0</td>\n",
              "      <td>0.00</td>\n",
              "      <td>0.0</td>\n",
              "      <td>0.0</td>\n",
              "      <td>0.06</td>\n",
              "      <td>0.0</td>\n",
              "      <td>0.0</td>\n",
              "      <td>0.12</td>\n",
              "      <td>0.0</td>\n",
              "      <td>0.06</td>\n",
              "      <td>0.06</td>\n",
              "      <td>0.0</td>\n",
              "      <td>0.0</td>\n",
              "      <td>0.01</td>\n",
              "      <td>0.143</td>\n",
              "      <td>0.0</td>\n",
              "      <td>0.276</td>\n",
              "      <td>0.184</td>\n",
              "      <td>0.010</td>\n",
              "      <td>9.821</td>\n",
              "      <td>485</td>\n",
              "      <td>2259</td>\n",
              "      <td>1</td>\n",
              "    </tr>\n",
              "  </tbody>\n",
              "</table>\n",
              "</div>"
            ],
            "text/plain": [
              "      0  0.64  0.64.1  0.1  0.32   0.2  ...   0.43   0.44  3.756   61   278  1\n",
              "0  0.21  0.28    0.50  0.0  0.14  0.28  ...  0.180  0.048  5.114  101  1028  1\n",
              "1  0.06  0.00    0.71  0.0  1.23  0.19  ...  0.184  0.010  9.821  485  2259  1\n",
              "\n",
              "[2 rows x 58 columns]"
            ]
          },
          "metadata": {
            "tags": []
          },
          "execution_count": 308
        }
      ]
    },
    {
      "cell_type": "markdown",
      "metadata": {
        "id": "HjmIsdvzch1E"
      },
      "source": [
        "**Attribute Information.**\n",
        "\n",
        "**The last column of 'spambase.data' denotes whether the e-mail was considered spam (1) or not (0).**"
      ]
    },
    {
      "cell_type": "code",
      "metadata": {
        "colab": {
          "base_uri": "https://localhost:8080/"
        },
        "id": "sFlRrYZXocDq",
        "outputId": "2d188a35-816f-4718-87bf-aa3d3678a02d"
      },
      "source": [
        "#check data shape\n",
        "df.shape"
      ],
      "execution_count": 309,
      "outputs": [
        {
          "output_type": "execute_result",
          "data": {
            "text/plain": [
              "(4600, 58)"
            ]
          },
          "metadata": {
            "tags": []
          },
          "execution_count": 309
        }
      ]
    },
    {
      "cell_type": "code",
      "metadata": {
        "colab": {
          "base_uri": "https://localhost:8080/"
        },
        "id": "WX5zh9G9qP2u",
        "outputId": "3252cc74-c06b-47d1-ff68-40e9c8fca163"
      },
      "source": [
        "#get number of columns in data\n",
        "len(df.columns)"
      ],
      "execution_count": 310,
      "outputs": [
        {
          "output_type": "execute_result",
          "data": {
            "text/plain": [
              "58"
            ]
          },
          "metadata": {
            "tags": []
          },
          "execution_count": 310
        }
      ]
    },
    {
      "cell_type": "code",
      "metadata": {
        "colab": {
          "base_uri": "https://localhost:8080/"
        },
        "id": "-OnTr9-QmRFl",
        "outputId": "0610c043-3950-42aa-d126-4f837128e178"
      },
      "source": [
        "#read the column names of data\n",
        "with open('/content/spambase.names') as f:\n",
        "    print(f.read())"
      ],
      "execution_count": 311,
      "outputs": [
        {
          "output_type": "stream",
          "text": [
            "| SPAM E-MAIL DATABASE ATTRIBUTES (in .names format)\n",
            "|\n",
            "| 48 continuous real [0,100] attributes of type word_freq_WORD \n",
            "| = percentage of words in the e-mail that match WORD,\n",
            "| i.e. 100 * (number of times the WORD appears in the e-mail) / \n",
            "| total number of words in e-mail.  A \"word\" in this case is any \n",
            "| string of alphanumeric characters bounded by non-alphanumeric \n",
            "| characters or end-of-string.\n",
            "|\n",
            "| 6 continuous real [0,100] attributes of type char_freq_CHAR\n",
            "| = percentage of characters in the e-mail that match CHAR,\n",
            "| i.e. 100 * (number of CHAR occurences) / total characters in e-mail\n",
            "|\n",
            "| 1 continuous real [1,...] attribute of type capital_run_length_average\n",
            "| = average length of uninterrupted sequences of capital letters\n",
            "|\n",
            "| 1 continuous integer [1,...] attribute of type capital_run_length_longest\n",
            "| = length of longest uninterrupted sequence of capital letters\n",
            "|\n",
            "| 1 continuous integer [1,...] attribute of type capital_run_length_total\n",
            "| = sum of length of uninterrupted sequences of capital letters\n",
            "| = total number of capital letters in the e-mail\n",
            "|\n",
            "| 1 nominal {0,1} class attribute of type spam\n",
            "| = denotes whether the e-mail was considered spam (1) or not (0), \n",
            "| i.e. unsolicited commercial e-mail.  \n",
            "|\n",
            "| For more information, see file 'spambase.DOCUMENTATION' at the\n",
            "| UCI Machine Learning Repository: http://www.ics.uci.edu/~mlearn/MLRepository.html\n",
            "\n",
            "\n",
            "1, 0.    | spam, non-spam classes\n",
            "\n",
            "word_freq_make:         continuous.\n",
            "word_freq_address:      continuous.\n",
            "word_freq_all:          continuous.\n",
            "word_freq_3d:           continuous.\n",
            "word_freq_our:          continuous.\n",
            "word_freq_over:         continuous.\n",
            "word_freq_remove:       continuous.\n",
            "word_freq_internet:     continuous.\n",
            "word_freq_order:        continuous.\n",
            "word_freq_mail:         continuous.\n",
            "word_freq_receive:      continuous.\n",
            "word_freq_will:         continuous.\n",
            "word_freq_people:       continuous.\n",
            "word_freq_report:       continuous.\n",
            "word_freq_addresses:    continuous.\n",
            "word_freq_free:         continuous.\n",
            "word_freq_business:     continuous.\n",
            "word_freq_email:        continuous.\n",
            "word_freq_you:          continuous.\n",
            "word_freq_credit:       continuous.\n",
            "word_freq_your:         continuous.\n",
            "word_freq_font:         continuous.\n",
            "word_freq_000:          continuous.\n",
            "word_freq_money:        continuous.\n",
            "word_freq_hp:           continuous.\n",
            "word_freq_hpl:          continuous.\n",
            "word_freq_george:       continuous.\n",
            "word_freq_650:          continuous.\n",
            "word_freq_lab:          continuous.\n",
            "word_freq_labs:         continuous.\n",
            "word_freq_telnet:       continuous.\n",
            "word_freq_857:          continuous.\n",
            "word_freq_data:         continuous.\n",
            "word_freq_415:          continuous.\n",
            "word_freq_85:           continuous.\n",
            "word_freq_technology:   continuous.\n",
            "word_freq_1999:         continuous.\n",
            "word_freq_parts:        continuous.\n",
            "word_freq_pm:           continuous.\n",
            "word_freq_direct:       continuous.\n",
            "word_freq_cs:           continuous.\n",
            "word_freq_meeting:      continuous.\n",
            "word_freq_original:     continuous.\n",
            "word_freq_project:      continuous.\n",
            "word_freq_re:           continuous.\n",
            "word_freq_edu:          continuous.\n",
            "word_freq_table:        continuous.\n",
            "word_freq_conference:   continuous.\n",
            "char_freq_;:            continuous.\n",
            "char_freq_(:            continuous.\n",
            "char_freq_[:            continuous.\n",
            "char_freq_!:            continuous.\n",
            "char_freq_$:            continuous.\n",
            "char_freq_#:            continuous.\n",
            "capital_run_length_average: continuous.\n",
            "capital_run_length_longest: continuous.\n",
            "capital_run_length_total:   continuous.\n",
            "\n"
          ],
          "name": "stdout"
        }
      ]
    },
    {
      "cell_type": "markdown",
      "metadata": {
        "id": "xBU8_Torc0VE"
      },
      "source": [
        "## External Data Validation\n",
        "To validate the integrity of this data, we load the following document. This document contains the explanation of each column and datatypes as well as data collection information."
      ]
    },
    {
      "cell_type": "code",
      "metadata": {
        "colab": {
          "base_uri": "https://localhost:8080/"
        },
        "id": "zQnbHRwEmieg",
        "outputId": "ca215035-d447-40a3-c3bc-88222c4f0a75"
      },
      "source": [
        "#understand the context and documentation of data\n",
        "url = '/content/spambase.DOCUMENTATION'\n",
        "with open(url) as f:\n",
        "    print(f.read())"
      ],
      "execution_count": 312,
      "outputs": [
        {
          "output_type": "stream",
          "text": [
            "1. Title:  SPAM E-mail Database\n",
            "\n",
            "2. Sources:\n",
            "   (a) Creators: Mark Hopkins, Erik Reeber, George Forman, Jaap Suermondt\n",
            "        Hewlett-Packard Labs, 1501 Page Mill Rd., Palo Alto, CA 94304\n",
            "   (b) Donor: George Forman (gforman at nospam hpl.hp.com)  650-857-7835\n",
            "   (c) Generated: June-July 1999\n",
            "\n",
            "3. Past Usage:\n",
            "   (a) Hewlett-Packard Internal-only Technical Report. External forthcoming.\n",
            "   (b) Determine whether a given email is spam or not.\n",
            "   (c) ~7% misclassification error.\n",
            "       False positives (marking good mail as spam) are very undesirable.\n",
            "       If we insist on zero false positives in the training/testing set,\n",
            "       20-25% of the spam passed through the filter.\n",
            "\n",
            "4. Relevant Information:\n",
            "        The \"spam\" concept is diverse: advertisements for products/web\n",
            "        sites, make money fast schemes, chain letters, pornography...\n",
            "\tOur collection of spam e-mails came from our postmaster and \n",
            "\tindividuals who had filed spam.  Our collection of non-spam \n",
            "\te-mails came from filed work and personal e-mails, and hence\n",
            "\tthe word 'george' and the area code '650' are indicators of \n",
            "\tnon-spam.  These are useful when constructing a personalized \n",
            "\tspam filter.  One would either have to blind such non-spam \n",
            "\tindicators or get a very wide collection of non-spam to \n",
            "\tgenerate a general purpose spam filter.\n",
            "\n",
            "        For background on spam:\n",
            "        Cranor, Lorrie F., LaMacchia, Brian A.  Spam! \n",
            "        Communications of the ACM, 41(8):74-83, 1998.\n",
            "\n",
            "5. Number of Instances: 4601 (1813 Spam = 39.4%)\n",
            "\n",
            "6. Number of Attributes: 58 (57 continuous, 1 nominal class label)\n",
            "\n",
            "7. Attribute Information:\n",
            "The last column of 'spambase.data' denotes whether the e-mail was \n",
            "considered spam (1) or not (0), i.e. unsolicited commercial e-mail.  \n",
            "Most of the attributes indicate whether a particular word or\n",
            "character was frequently occuring in the e-mail.  The run-length\n",
            "attributes (55-57) measure the length of sequences of consecutive \n",
            "capital letters.  For the statistical measures of each attribute, \n",
            "see the end of this file.  Here are the definitions of the attributes:\n",
            "\n",
            "48 continuous real [0,100] attributes of type word_freq_WORD \n",
            "= percentage of words in the e-mail that match WORD,\n",
            "i.e. 100 * (number of times the WORD appears in the e-mail) / \n",
            "total number of words in e-mail.  A \"word\" in this case is any \n",
            "string of alphanumeric characters bounded by non-alphanumeric \n",
            "characters or end-of-string.\n",
            "\n",
            "6 continuous real [0,100] attributes of type char_freq_CHAR\n",
            "= percentage of characters in the e-mail that match CHAR,\n",
            "i.e. 100 * (number of CHAR occurences) / total characters in e-mail\n",
            "\n",
            "1 continuous real [1,...] attribute of type capital_run_length_average\n",
            "= average length of uninterrupted sequences of capital letters\n",
            "\n",
            "1 continuous integer [1,...] attribute of type capital_run_length_longest\n",
            "= length of longest uninterrupted sequence of capital letters\n",
            "\n",
            "1 continuous integer [1,...] attribute of type capital_run_length_total\n",
            "= sum of length of uninterrupted sequences of capital letters\n",
            "= total number of capital letters in the e-mail\n",
            "\n",
            "1 nominal {0,1} class attribute of type spam\n",
            "= denotes whether the e-mail was considered spam (1) or not (0), \n",
            "i.e. unsolicited commercial e-mail.  \n",
            "\n",
            "\n",
            "8. Missing Attribute Values: None\n",
            "\n",
            "9. Class Distribution:\n",
            "\tSpam\t  1813  (39.4%)\n",
            "\tNon-Spam  2788  (60.6%)\n",
            "\n",
            "\n",
            "Attribute Statistics:\n",
            "   Min: Max:   Average:  Std.Dev: Coeff.Var_%: \n",
            "1  0    4.54   0.10455   0.30536  292          \n",
            "2  0    14.28  0.21301   1.2906   606          \n",
            "3  0    5.1    0.28066   0.50414  180          \n",
            "4  0    42.81  0.065425  1.3952   2130         \n",
            "5  0    10     0.31222   0.67251  215          \n",
            "6  0    5.88   0.095901  0.27382  286          \n",
            "7  0    7.27   0.11421   0.39144  343          \n",
            "8  0    11.11  0.10529   0.40107  381          \n",
            "9  0    5.26   0.090067  0.27862  309          \n",
            "10 0    18.18  0.23941   0.64476  269          \n",
            "11 0    2.61   0.059824  0.20154  337          \n",
            "12 0    9.67   0.5417    0.8617   159          \n",
            "13 0    5.55   0.09393   0.30104  320          \n",
            "14 0    10     0.058626  0.33518  572          \n",
            "15 0    4.41   0.049205  0.25884  526          \n",
            "16 0    20     0.24885   0.82579  332          \n",
            "17 0    7.14   0.14259   0.44406  311          \n",
            "18 0    9.09   0.18474   0.53112  287          \n",
            "19 0    18.75  1.6621    1.7755   107          \n",
            "20 0    18.18  0.085577  0.50977  596          \n",
            "21 0    11.11  0.80976   1.2008   148          \n",
            "22 0    17.1   0.1212    1.0258   846          \n",
            "23 0    5.45   0.10165   0.35029  345          \n",
            "24 0    12.5   0.094269  0.44264  470          \n",
            "25 0    20.83  0.5495    1.6713   304          \n",
            "26 0    16.66  0.26538   0.88696  334          \n",
            "27 0    33.33  0.7673    3.3673   439          \n",
            "28 0    9.09   0.12484   0.53858  431          \n",
            "29 0    14.28  0.098915  0.59333  600          \n",
            "30 0    5.88   0.10285   0.45668  444          \n",
            "31 0    12.5   0.064753  0.40339  623          \n",
            "32 0    4.76   0.047048  0.32856  698          \n",
            "33 0    18.18  0.097229  0.55591  572          \n",
            "34 0    4.76   0.047835  0.32945  689          \n",
            "35 0    20     0.10541   0.53226  505          \n",
            "36 0    7.69   0.097477  0.40262  413          \n",
            "37 0    6.89   0.13695   0.42345  309          \n",
            "38 0    8.33   0.013201  0.22065  1670         \n",
            "39 0    11.11  0.078629  0.43467  553          \n",
            "40 0    4.76   0.064834  0.34992  540          \n",
            "41 0    7.14   0.043667  0.3612   827          \n",
            "42 0    14.28  0.13234   0.76682  579          \n",
            "43 0    3.57   0.046099  0.22381  486          \n",
            "44 0    20     0.079196  0.62198  785          \n",
            "45 0    21.42  0.30122   1.0117   336          \n",
            "46 0    22.05  0.17982   0.91112  507          \n",
            "47 0    2.17   0.0054445 0.076274 1400         \n",
            "48 0    10     0.031869  0.28573  897          \n",
            "49 0    4.385  0.038575  0.24347  631          \n",
            "50 0    9.752  0.13903   0.27036  194          \n",
            "51 0    4.081  0.016976  0.10939  644          \n",
            "52 0    32.478 0.26907   0.81567  303          \n",
            "53 0    6.003  0.075811  0.24588  324          \n",
            "54 0    19.829 0.044238  0.42934  971          \n",
            "55 1    1102.5 5.1915    31.729   611          \n",
            "56 1    9989   52.173    194.89   374          \n",
            "57 1    15841  283.29    606.35   214          \n",
            "58 0    1      0.39404   0.4887   124          \n",
            "\n",
            "\n",
            "This file: 'spambase.DOCUMENTATION' at the UCI Machine Learning Repository\n",
            "http://www.ics.uci.edu/~mlearn/MLRepository.html\n",
            "\n"
          ],
          "name": "stdout"
        }
      ]
    },
    {
      "cell_type": "code",
      "metadata": {
        "colab": {
          "base_uri": "https://localhost:8080/"
        },
        "id": "Si2_V5_YqxhR",
        "outputId": "4d99547d-b401-4409-cca9-9e5c15f5224f"
      },
      "source": [
        "df.columns"
      ],
      "execution_count": 313,
      "outputs": [
        {
          "output_type": "execute_result",
          "data": {
            "text/plain": [
              "Index(['0', '0.64', '0.64.1', '0.1', '0.32', '0.2', '0.3', '0.4', '0.5', '0.6',\n",
              "       '0.7', '0.64.2', '0.8', '0.9', '0.10', '0.32.1', '0.11', '1.29', '1.93',\n",
              "       '0.12', '0.96', '0.13', '0.14', '0.15', '0.16', '0.17', '0.18', '0.19',\n",
              "       '0.20', '0.21', '0.22', '0.23', '0.24', '0.25', '0.26', '0.27', '0.28',\n",
              "       '0.29', '0.30', '0.31', '0.32.2', '0.33', '0.34', '0.35', '0.36',\n",
              "       '0.37', '0.38', '0.39', '0.40', '0.41', '0.42', '0.778', '0.43', '0.44',\n",
              "       '3.756', '61', '278', '1'],\n",
              "      dtype='object')"
            ]
          },
          "metadata": {
            "tags": []
          },
          "execution_count": 313
        }
      ]
    },
    {
      "cell_type": "markdown",
      "metadata": {
        "id": "jNR48BDodI28"
      },
      "source": [
        "## Data Cleaning\n",
        "\n",
        "The data is already well formatted but we can replace and rename the column names for better understanding of context."
      ]
    },
    {
      "cell_type": "code",
      "metadata": {
        "id": "GakWpEW6ypAK"
      },
      "source": [
        "#rename all the columns for better EDA\n",
        "df.rename(columns = {'0':'make','0.64':'address','0.64.1':'all','0.1':'3d','0.32':'our','0.2':'over',\n",
        "                     '0.3':'remove','0.4':'internet','0.5':'order','0.6':'mail',\n",
        "                     '0.7':'receive','0.64.2':'will','0.8':'people','0.9':'report',\n",
        "                     '0.10':'addresses','0.32.1':'free','0.11':'business','1.29':'email','1.93':'You',\n",
        "                     '0.12':'credit','0.96':'your','0.13':'font','0.14':'000','0.15':'money',\n",
        "                     '0.16':'hp','0.17':'hpl','0.18':'George','0.19':'650','0.20':'lab',\n",
        "                     '0.21':'labs','0.22':'telnet','0.23':'857','0.24':'data','0.25':'415',\n",
        "                     '0.26':'85','0.27':'Technology','0.28':'1999','0.29':'Parts','0.30':'PM','0.31':'Direct',\n",
        "                     '0.32':'CS','0.33':'Meeting','0.34':'Original','0.35':'Project','0.36':'RE',\n",
        "                     '0.37':'EDU','0.38':'Table','0.39':'Conference','0.40':';','0.41':'(',\n",
        "                     '0.42':'callibrace','0.778':'!','0.43':'$','0.44':'#','3.756':'Capital_Run_length_avg',\n",
        "                     '61':'Capital_Run_length_longest','278':'Capital_Run_length_total','1':'Spam',},inplace = True)"
      ],
      "execution_count": 314,
      "outputs": []
    },
    {
      "cell_type": "code",
      "metadata": {
        "colab": {
          "base_uri": "https://localhost:8080/",
          "height": 0
        },
        "id": "V8DQEJ3u45uJ",
        "outputId": "3bed8a1f-a9db-4f65-e076-33bdc4ca3a5a"
      },
      "source": [
        "df.head(2)"
      ],
      "execution_count": 315,
      "outputs": [
        {
          "output_type": "execute_result",
          "data": {
            "text/html": [
              "<div>\n",
              "<style scoped>\n",
              "    .dataframe tbody tr th:only-of-type {\n",
              "        vertical-align: middle;\n",
              "    }\n",
              "\n",
              "    .dataframe tbody tr th {\n",
              "        vertical-align: top;\n",
              "    }\n",
              "\n",
              "    .dataframe thead th {\n",
              "        text-align: right;\n",
              "    }\n",
              "</style>\n",
              "<table border=\"1\" class=\"dataframe\">\n",
              "  <thead>\n",
              "    <tr style=\"text-align: right;\">\n",
              "      <th></th>\n",
              "      <th>make</th>\n",
              "      <th>address</th>\n",
              "      <th>all</th>\n",
              "      <th>3d</th>\n",
              "      <th>CS</th>\n",
              "      <th>over</th>\n",
              "      <th>remove</th>\n",
              "      <th>internet</th>\n",
              "      <th>order</th>\n",
              "      <th>mail</th>\n",
              "      <th>receive</th>\n",
              "      <th>will</th>\n",
              "      <th>people</th>\n",
              "      <th>report</th>\n",
              "      <th>addresses</th>\n",
              "      <th>free</th>\n",
              "      <th>business</th>\n",
              "      <th>email</th>\n",
              "      <th>You</th>\n",
              "      <th>credit</th>\n",
              "      <th>your</th>\n",
              "      <th>font</th>\n",
              "      <th>000</th>\n",
              "      <th>money</th>\n",
              "      <th>hp</th>\n",
              "      <th>hpl</th>\n",
              "      <th>George</th>\n",
              "      <th>650</th>\n",
              "      <th>lab</th>\n",
              "      <th>labs</th>\n",
              "      <th>telnet</th>\n",
              "      <th>857</th>\n",
              "      <th>data</th>\n",
              "      <th>415</th>\n",
              "      <th>85</th>\n",
              "      <th>Technology</th>\n",
              "      <th>1999</th>\n",
              "      <th>Parts</th>\n",
              "      <th>PM</th>\n",
              "      <th>Direct</th>\n",
              "      <th>0.32.2</th>\n",
              "      <th>Meeting</th>\n",
              "      <th>Original</th>\n",
              "      <th>Project</th>\n",
              "      <th>RE</th>\n",
              "      <th>EDU</th>\n",
              "      <th>Table</th>\n",
              "      <th>Conference</th>\n",
              "      <th>;</th>\n",
              "      <th>(</th>\n",
              "      <th>callibrace</th>\n",
              "      <th>!</th>\n",
              "      <th>$</th>\n",
              "      <th>#</th>\n",
              "      <th>Capital_Run_length_avg</th>\n",
              "      <th>Capital_Run_length_longest</th>\n",
              "      <th>Capital_Run_length_total</th>\n",
              "      <th>Spam</th>\n",
              "    </tr>\n",
              "  </thead>\n",
              "  <tbody>\n",
              "    <tr>\n",
              "      <th>0</th>\n",
              "      <td>0.21</td>\n",
              "      <td>0.28</td>\n",
              "      <td>0.50</td>\n",
              "      <td>0.0</td>\n",
              "      <td>0.14</td>\n",
              "      <td>0.28</td>\n",
              "      <td>0.21</td>\n",
              "      <td>0.07</td>\n",
              "      <td>0.00</td>\n",
              "      <td>0.94</td>\n",
              "      <td>0.21</td>\n",
              "      <td>0.79</td>\n",
              "      <td>0.65</td>\n",
              "      <td>0.21</td>\n",
              "      <td>0.14</td>\n",
              "      <td>0.14</td>\n",
              "      <td>0.07</td>\n",
              "      <td>0.28</td>\n",
              "      <td>3.47</td>\n",
              "      <td>0.00</td>\n",
              "      <td>1.59</td>\n",
              "      <td>0.0</td>\n",
              "      <td>0.43</td>\n",
              "      <td>0.43</td>\n",
              "      <td>0.0</td>\n",
              "      <td>0.0</td>\n",
              "      <td>0.0</td>\n",
              "      <td>0.0</td>\n",
              "      <td>0.0</td>\n",
              "      <td>0.0</td>\n",
              "      <td>0.0</td>\n",
              "      <td>0.0</td>\n",
              "      <td>0.0</td>\n",
              "      <td>0.0</td>\n",
              "      <td>0.0</td>\n",
              "      <td>0.0</td>\n",
              "      <td>0.07</td>\n",
              "      <td>0.0</td>\n",
              "      <td>0.0</td>\n",
              "      <td>0.00</td>\n",
              "      <td>0.0</td>\n",
              "      <td>0.0</td>\n",
              "      <td>0.00</td>\n",
              "      <td>0.0</td>\n",
              "      <td>0.00</td>\n",
              "      <td>0.00</td>\n",
              "      <td>0.0</td>\n",
              "      <td>0.0</td>\n",
              "      <td>0.00</td>\n",
              "      <td>0.132</td>\n",
              "      <td>0.0</td>\n",
              "      <td>0.372</td>\n",
              "      <td>0.180</td>\n",
              "      <td>0.048</td>\n",
              "      <td>5.114</td>\n",
              "      <td>101</td>\n",
              "      <td>1028</td>\n",
              "      <td>1</td>\n",
              "    </tr>\n",
              "    <tr>\n",
              "      <th>1</th>\n",
              "      <td>0.06</td>\n",
              "      <td>0.00</td>\n",
              "      <td>0.71</td>\n",
              "      <td>0.0</td>\n",
              "      <td>1.23</td>\n",
              "      <td>0.19</td>\n",
              "      <td>0.19</td>\n",
              "      <td>0.12</td>\n",
              "      <td>0.64</td>\n",
              "      <td>0.25</td>\n",
              "      <td>0.38</td>\n",
              "      <td>0.45</td>\n",
              "      <td>0.12</td>\n",
              "      <td>0.00</td>\n",
              "      <td>1.75</td>\n",
              "      <td>0.06</td>\n",
              "      <td>0.06</td>\n",
              "      <td>1.03</td>\n",
              "      <td>1.36</td>\n",
              "      <td>0.32</td>\n",
              "      <td>0.51</td>\n",
              "      <td>0.0</td>\n",
              "      <td>1.16</td>\n",
              "      <td>0.06</td>\n",
              "      <td>0.0</td>\n",
              "      <td>0.0</td>\n",
              "      <td>0.0</td>\n",
              "      <td>0.0</td>\n",
              "      <td>0.0</td>\n",
              "      <td>0.0</td>\n",
              "      <td>0.0</td>\n",
              "      <td>0.0</td>\n",
              "      <td>0.0</td>\n",
              "      <td>0.0</td>\n",
              "      <td>0.0</td>\n",
              "      <td>0.0</td>\n",
              "      <td>0.00</td>\n",
              "      <td>0.0</td>\n",
              "      <td>0.0</td>\n",
              "      <td>0.06</td>\n",
              "      <td>0.0</td>\n",
              "      <td>0.0</td>\n",
              "      <td>0.12</td>\n",
              "      <td>0.0</td>\n",
              "      <td>0.06</td>\n",
              "      <td>0.06</td>\n",
              "      <td>0.0</td>\n",
              "      <td>0.0</td>\n",
              "      <td>0.01</td>\n",
              "      <td>0.143</td>\n",
              "      <td>0.0</td>\n",
              "      <td>0.276</td>\n",
              "      <td>0.184</td>\n",
              "      <td>0.010</td>\n",
              "      <td>9.821</td>\n",
              "      <td>485</td>\n",
              "      <td>2259</td>\n",
              "      <td>1</td>\n",
              "    </tr>\n",
              "  </tbody>\n",
              "</table>\n",
              "</div>"
            ],
            "text/plain": [
              "   make  address  ...  Capital_Run_length_total  Spam\n",
              "0  0.21     0.28  ...                      1028     1\n",
              "1  0.06     0.00  ...                      2259     1\n",
              "\n",
              "[2 rows x 58 columns]"
            ]
          },
          "metadata": {
            "tags": []
          },
          "execution_count": 315
        }
      ]
    },
    {
      "cell_type": "code",
      "metadata": {
        "colab": {
          "base_uri": "https://localhost:8080/"
        },
        "id": "cblhhhUP47O_",
        "outputId": "aeb37d4c-2364-4dbc-df0b-d8add683b0cf"
      },
      "source": [
        "#now for data cleaning\n",
        "df.isnull().sum()\n",
        "\n",
        "#there are no missing values in data"
      ],
      "execution_count": 316,
      "outputs": [
        {
          "output_type": "execute_result",
          "data": {
            "text/plain": [
              "make                          0\n",
              "address                       0\n",
              "all                           0\n",
              "3d                            0\n",
              "CS                            0\n",
              "over                          0\n",
              "remove                        0\n",
              "internet                      0\n",
              "order                         0\n",
              "mail                          0\n",
              "receive                       0\n",
              "will                          0\n",
              "people                        0\n",
              "report                        0\n",
              "addresses                     0\n",
              "free                          0\n",
              "business                      0\n",
              "email                         0\n",
              "You                           0\n",
              "credit                        0\n",
              "your                          0\n",
              "font                          0\n",
              "000                           0\n",
              "money                         0\n",
              "hp                            0\n",
              "hpl                           0\n",
              "George                        0\n",
              "650                           0\n",
              "lab                           0\n",
              "labs                          0\n",
              "telnet                        0\n",
              "857                           0\n",
              "data                          0\n",
              "415                           0\n",
              "85                            0\n",
              "Technology                    0\n",
              "1999                          0\n",
              "Parts                         0\n",
              "PM                            0\n",
              "Direct                        0\n",
              "0.32.2                        0\n",
              "Meeting                       0\n",
              "Original                      0\n",
              "Project                       0\n",
              "RE                            0\n",
              "EDU                           0\n",
              "Table                         0\n",
              "Conference                    0\n",
              ";                             0\n",
              "(                             0\n",
              "callibrace                    0\n",
              "!                             0\n",
              "$                             0\n",
              "#                             0\n",
              "Capital_Run_length_avg        0\n",
              "Capital_Run_length_longest    0\n",
              "Capital_Run_length_total      0\n",
              "Spam                          0\n",
              "dtype: int64"
            ]
          },
          "metadata": {
            "tags": []
          },
          "execution_count": 316
        }
      ]
    },
    {
      "cell_type": "code",
      "metadata": {
        "colab": {
          "base_uri": "https://localhost:8080/"
        },
        "id": "GV-swae45Tmk",
        "outputId": "e0b8b8d9-f7a6-46be-ac65-f32c1d8a289c"
      },
      "source": [
        "df.dtypes"
      ],
      "execution_count": 317,
      "outputs": [
        {
          "output_type": "execute_result",
          "data": {
            "text/plain": [
              "make                          float64\n",
              "address                       float64\n",
              "all                           float64\n",
              "3d                            float64\n",
              "CS                            float64\n",
              "over                          float64\n",
              "remove                        float64\n",
              "internet                      float64\n",
              "order                         float64\n",
              "mail                          float64\n",
              "receive                       float64\n",
              "will                          float64\n",
              "people                        float64\n",
              "report                        float64\n",
              "addresses                     float64\n",
              "free                          float64\n",
              "business                      float64\n",
              "email                         float64\n",
              "You                           float64\n",
              "credit                        float64\n",
              "your                          float64\n",
              "font                          float64\n",
              "000                           float64\n",
              "money                         float64\n",
              "hp                            float64\n",
              "hpl                           float64\n",
              "George                        float64\n",
              "650                           float64\n",
              "lab                           float64\n",
              "labs                          float64\n",
              "telnet                        float64\n",
              "857                           float64\n",
              "data                          float64\n",
              "415                           float64\n",
              "85                            float64\n",
              "Technology                    float64\n",
              "1999                          float64\n",
              "Parts                         float64\n",
              "PM                            float64\n",
              "Direct                        float64\n",
              "0.32.2                        float64\n",
              "Meeting                       float64\n",
              "Original                      float64\n",
              "Project                       float64\n",
              "RE                            float64\n",
              "EDU                           float64\n",
              "Table                         float64\n",
              "Conference                    float64\n",
              ";                             float64\n",
              "(                             float64\n",
              "callibrace                    float64\n",
              "!                             float64\n",
              "$                             float64\n",
              "#                             float64\n",
              "Capital_Run_length_avg        float64\n",
              "Capital_Run_length_longest      int64\n",
              "Capital_Run_length_total        int64\n",
              "Spam                            int64\n",
              "dtype: object"
            ]
          },
          "metadata": {
            "tags": []
          },
          "execution_count": 317
        }
      ]
    },
    {
      "cell_type": "code",
      "metadata": {
        "colab": {
          "base_uri": "https://localhost:8080/"
        },
        "id": "V0qGiDwZ5ZUr",
        "outputId": "e9cabbcc-7936-4e09-98d8-45db5756a68a"
      },
      "source": [
        "df.shape"
      ],
      "execution_count": 318,
      "outputs": [
        {
          "output_type": "execute_result",
          "data": {
            "text/plain": [
              "(4600, 58)"
            ]
          },
          "metadata": {
            "tags": []
          },
          "execution_count": 318
        }
      ]
    },
    {
      "cell_type": "markdown",
      "metadata": {
        "id": "fqsFqxOodcaM"
      },
      "source": [
        "## Exploratory Data Analysis\n",
        "\n",
        "Lets try do some Univariate and Bivariate EDA of some variables in this data."
      ]
    },
    {
      "cell_type": "code",
      "metadata": {
        "colab": {
          "base_uri": "https://localhost:8080/",
          "height": 0
        },
        "id": "15-0-QDf5eLK",
        "outputId": "8b21b0b1-fb42-4b36-e63b-5b760d21fa19"
      },
      "source": [
        "#Univariate EDA\n",
        "\n",
        "import seaborn as sns\n",
        "import matplotlib.pyplot as plt\n",
        "\n",
        "sns.countplot(x = 'Spam',data = df,palette='hls')\n",
        "plt.title('Spam vs Not Spam in data')\n",
        "plt.show()\n",
        "\n",
        "#majority of emails are classified as not spam"
      ],
      "execution_count": 319,
      "outputs": [
        {
          "output_type": "display_data",
          "data": {
            "image/png": "[encoded data removed]",
            "text/plain": [
              "<Figure size 432x288 with 1 Axes>"
            ]
          },
          "metadata": {
            "tags": [],
            "needs_background": "light"
          }
        }
      ]
    },
    {
      "cell_type": "code",
      "metadata": {
        "colab": {
          "base_uri": "https://localhost:8080/"
        },
        "id": "E4Lwsw6x5D8O",
        "outputId": "25c061d5-48bc-40da-858e-91f3f85d9b62"
      },
      "source": [
        "df['free'].describe()\n",
        "\n",
        "#checking the descriptive statistics of the word 'free' in emails"
      ],
      "execution_count": 320,
      "outputs": [
        {
          "output_type": "execute_result",
          "data": {
            "text/plain": [
              "count    4600.000000\n",
              "mean        0.248833\n",
              "std         0.825881\n",
              "min         0.000000\n",
              "25%         0.000000\n",
              "50%         0.000000\n",
              "75%         0.100000\n",
              "max        20.000000\n",
              "Name: free, dtype: float64"
            ]
          },
          "metadata": {
            "tags": []
          },
          "execution_count": 320
        }
      ]
    },
    {
      "cell_type": "code",
      "metadata": {
        "colab": {
          "base_uri": "https://localhost:8080/"
        },
        "id": "o5L957p3Et7d",
        "outputId": "1f478e90-4d2f-4b2b-904b-c073fa928f6f"
      },
      "source": [
        "df['You'].describe()\n",
        "\n",
        "#the word 'You' has appears in almost all emails.\n",
        "\n",
        "#This means that it is not a strong indicator of whether an email is Spam or not spam"
      ],
      "execution_count": 321,
      "outputs": [
        {
          "output_type": "execute_result",
          "data": {
            "text/plain": [
              "count    4600.000000\n",
              "mean        1.662041\n",
              "std         1.775669\n",
              "min         0.000000\n",
              "25%         0.000000\n",
              "50%         1.310000\n",
              "75%         2.640000\n",
              "max        18.750000\n",
              "Name: You, dtype: float64"
            ]
          },
          "metadata": {
            "tags": []
          },
          "execution_count": 321
        }
      ]
    },
    {
      "cell_type": "code",
      "metadata": {
        "colab": {
          "base_uri": "https://localhost:8080/",
          "height": 0
        },
        "id": "NxwkzJjQ5zyW",
        "outputId": "cd2c7405-a791-4992-df67-e632d9bb0635"
      },
      "source": [
        "#bivariate EDA\n",
        "\n",
        "sns.relplot(x = 'free',y = 'receive',data = df)"
      ],
      "execution_count": 322,
      "outputs": [
        {
          "output_type": "execute_result",
          "data": {
            "text/plain": [
              "<seaborn.axisgrid.FacetGrid at 0x7f35b9ca2750>"
            ]
          },
          "metadata": {
            "tags": []
          },
          "execution_count": 322
        },
        {
          "output_type": "display_data",
          "data": {
            "image/png": "[encoded data removed]",
            "text/plain": [
              "<Figure size 360x360 with 1 Axes>"
            ]
          },
          "metadata": {
            "tags": [],
            "needs_background": "light"
          }
        }
      ]
    },
    {
      "cell_type": "code",
      "metadata": {
        "colab": {
          "base_uri": "https://localhost:8080/",
          "height": 0
        },
        "id": "ver-qsZt6_9v",
        "outputId": "a234b930-7459-42ea-8e60-ec610b30b0cb"
      },
      "source": [
        "sns.lmplot(x = 'free',y = 'order',hue = 'Spam',palette='Set1',data = df,fit_reg=False)\n",
        "plt.title('Plot to check relatioship between the phrase Free, Order and Spam')\n",
        "plt.show()"
      ],
      "execution_count": 323,
      "outputs": [
        {
          "output_type": "display_data",
          "data": {
            "image/png": "[encoded data removed]",
            "text/plain": [
              "<Figure size 402.375x360 with 1 Axes>"
            ]
          },
          "metadata": {
            "tags": [],
            "needs_background": "light"
          }
        }
      ]
    },
    {
      "cell_type": "markdown",
      "metadata": {
        "id": "Gcidetzodut2"
      },
      "source": [
        "**The EDA of this data does not seem to inform us much concerning the problem in question. This is because the data is simply a collection of frequences of occurences of certain words in emails.**"
      ]
    },
    {
      "cell_type": "markdown",
      "metadata": {
        "id": "dTqSdsiPd_My"
      },
      "source": [
        "## Implementing the solution\n",
        "\n",
        "First we will ensure data is balanced to avoid underfitting. This will be done by **downsampling** the data."
      ]
    },
    {
      "cell_type": "code",
      "metadata": {
        "colab": {
          "base_uri": "https://localhost:8080/"
        },
        "id": "3AkRasIMTfU-",
        "outputId": "568425e7-ba87-4c45-cc78-d7a844242dff"
      },
      "source": [
        "#downsample data for modelling\n",
        "\n",
        "from sklearn.utils import resample\n",
        "\n",
        "spam_df = df[df['Spam'] == 1]\n",
        "spam_df.shape"
      ],
      "execution_count": 324,
      "outputs": [
        {
          "output_type": "execute_result",
          "data": {
            "text/plain": [
              "(1812, 58)"
            ]
          },
          "metadata": {
            "tags": []
          },
          "execution_count": 324
        }
      ]
    },
    {
      "cell_type": "code",
      "metadata": {
        "colab": {
          "base_uri": "https://localhost:8080/"
        },
        "id": "6NLWPaeRUmlb",
        "outputId": "be47eaaf-3f3e-4da3-e999-7feb6e3d399a"
      },
      "source": [
        "spamdf = resample(spam_df,replace = False,n_samples = 500,random_state =42)\n",
        "spamdf.shape"
      ],
      "execution_count": 325,
      "outputs": [
        {
          "output_type": "execute_result",
          "data": {
            "text/plain": [
              "(500, 58)"
            ]
          },
          "metadata": {
            "tags": []
          },
          "execution_count": 325
        }
      ]
    },
    {
      "cell_type": "code",
      "metadata": {
        "colab": {
          "base_uri": "https://localhost:8080/"
        },
        "id": "_jheoof2VHMS",
        "outputId": "ce7d33f3-4250-46b7-8f27-a6f89cbce125"
      },
      "source": [
        "#get rows of data containing Not spam emails\n",
        "nospam_df = df[df['Spam'] == 0]\n",
        "nospam_df.shape"
      ],
      "execution_count": 326,
      "outputs": [
        {
          "output_type": "execute_result",
          "data": {
            "text/plain": [
              "(2788, 58)"
            ]
          },
          "metadata": {
            "tags": []
          },
          "execution_count": 326
        }
      ]
    },
    {
      "cell_type": "code",
      "metadata": {
        "colab": {
          "base_uri": "https://localhost:8080/"
        },
        "id": "R-vRXT2cVWjD",
        "outputId": "2e2e0986-75ab-4df5-c618-80e386abec07"
      },
      "source": [
        "# downsample to remove imbalance\n",
        "\n",
        "nospamdf = resample(nospam_df,replace = False,n_samples = 500,random_state =42)\n",
        "nospamdf.shape"
      ],
      "execution_count": 327,
      "outputs": [
        {
          "output_type": "execute_result",
          "data": {
            "text/plain": [
              "(500, 58)"
            ]
          },
          "metadata": {
            "tags": []
          },
          "execution_count": 327
        }
      ]
    },
    {
      "cell_type": "code",
      "metadata": {
        "colab": {
          "base_uri": "https://localhost:8080/",
          "height": 0
        },
        "id": "uaY03pRuVg3W",
        "outputId": "91446292-d011-4640-bb95-646d8bbbdf3f"
      },
      "source": [
        "#merge the samples\n",
        "\n",
        "newdf = pd.concat([nospamdf,spamdf])\n",
        "sns.countplot(x = 'Spam',data = newdf,palette='hls')\n",
        "plt.title('Checking whether data is downsampled')\n",
        "plt.show()"
      ],
      "execution_count": 328,
      "outputs": [
        {
          "output_type": "display_data",
          "data": {
            "image/png": "[encoded data removed]",
            "text/plain": [
              "<Figure size 432x288 with 1 Axes>"
            ]
          },
          "metadata": {
            "tags": [],
            "needs_background": "light"
          }
        }
      ]
    },
    {
      "cell_type": "markdown",
      "metadata": {
        "id": "xg49mFw4eVcf"
      },
      "source": [
        "Now that the data is well balanced for modelling, we will proceed with further preprocessing."
      ]
    },
    {
      "cell_type": "code",
      "metadata": {
        "colab": {
          "base_uri": "https://localhost:8080/"
        },
        "id": "HU7lPTN9VzzU",
        "outputId": "614507d5-21ad-4c30-d73d-d330ff18b088"
      },
      "source": [
        "#now to build the model\n",
        "\n",
        "#confirm that categorical data types are well encoded\n",
        "\n",
        "df.columns"
      ],
      "execution_count": 329,
      "outputs": [
        {
          "output_type": "execute_result",
          "data": {
            "text/plain": [
              "Index(['make', 'address', 'all', '3d', 'CS', 'over', 'remove', 'internet',\n",
              "       'order', 'mail', 'receive', 'will', 'people', 'report', 'addresses',\n",
              "       'free', 'business', 'email', 'You', 'credit', 'your', 'font', '000',\n",
              "       'money', 'hp', 'hpl', 'George', '650', 'lab', 'labs', 'telnet', '857',\n",
              "       'data', '415', '85', 'Technology', '1999', 'Parts', 'PM', 'Direct',\n",
              "       '0.32.2', 'Meeting', 'Original', 'Project', 'RE', 'EDU', 'Table',\n",
              "       'Conference', ';', '(', 'callibrace', '!', '$', '#',\n",
              "       'Capital_Run_length_avg', 'Capital_Run_length_longest',\n",
              "       'Capital_Run_length_total', 'Spam'],\n",
              "      dtype='object')"
            ]
          },
          "metadata": {
            "tags": []
          },
          "execution_count": 329
        }
      ]
    },
    {
      "cell_type": "markdown",
      "metadata": {
        "id": "2vPf3HjRe150"
      },
      "source": [
        "### Data Pre-Processing"
      ]
    },
    {
      "cell_type": "markdown",
      "metadata": {
        "id": "FIUt5N3be8L_"
      },
      "source": [
        "First, we scale the data using **Standard Scaler().**"
      ]
    },
    {
      "cell_type": "code",
      "metadata": {
        "id": "ImGRAHBdWXjr"
      },
      "source": [
        "#scale the data \n",
        "\n",
        "# use standard scaler for this\n",
        "from sklearn.preprocessing import StandardScaler\n",
        "\n",
        "sc = StandardScaler()\n",
        "\n",
        "df_features = ['make', 'address', 'all', '3d', 'CS', 'over', 'remove', 'internet',\n",
        "       'order', 'mail', 'receive', 'will', 'people', 'report', 'addresses',\n",
        "       'free', 'business', 'email', 'You', 'credit', 'your', 'font', '000',\n",
        "       'money', 'hp', 'hpl', 'George', '650', 'lab', 'labs', 'telnet', '857',\n",
        "       'data', '415', '85', 'Technology', '1999', 'Parts', 'PM', 'Direct',\n",
        "       '0.32.2', 'Meeting', 'Original', 'Project', 'RE', 'EDU', 'Table',\n",
        "       'Conference', ';', '(', 'callibrace', '!', '$', '#',\n",
        "       'Capital_Run_length_avg', 'Capital_Run_length_longest',\n",
        "       'Capital_Run_length_total']\n",
        "\n",
        "from sklearn.model_selection import train_test_split\n",
        "\n",
        "X = newdf[df_features].values\n",
        "\n",
        "y = newdf['Spam'].values\n",
        "\n",
        "X_train,X_test,y_train,y_test = train_test_split(X,y,test_size = 0.2,random_state = 0)"
      ],
      "execution_count": 330,
      "outputs": []
    },
    {
      "cell_type": "code",
      "metadata": {
        "id": "I7e4Gu-yXDJF"
      },
      "source": [
        "#on scaling\n",
        "\n",
        "X_train = sc.fit_transform(X_train)\n",
        "\n",
        "X_test = sc.transform(X_test)"
      ],
      "execution_count": 331,
      "outputs": []
    },
    {
      "cell_type": "markdown",
      "metadata": {
        "id": "VcAwMLf_fFDX"
      },
      "source": [
        "In order to fit a naive Bayes model, we first optimise the model by **Normalizing the data.**"
      ]
    },
    {
      "cell_type": "code",
      "metadata": {
        "id": "bgYG64j4Xovi"
      },
      "source": [
        "#now fit a Naive Bayes Model\n",
        "\n",
        "# First, we use a Gaussian Naive Bayes Model\n",
        "\n",
        "# for this we normalize the data\n",
        "\n",
        "from sklearn.preprocessing import normalize\n",
        "X_train = normalize(X_train, norm='max')\n",
        "X_test = normalize(X_test, norm='max')"
      ],
      "execution_count": 332,
      "outputs": []
    },
    {
      "cell_type": "markdown",
      "metadata": {
        "id": "q5oBNDmOfV6H"
      },
      "source": [
        "Next, we use **Linear Discriminant Analysis to reduce dimensionality of data.**"
      ]
    },
    {
      "cell_type": "code",
      "metadata": {
        "id": "VjOPkz8YeJtE"
      },
      "source": [
        "#now use LDA for dimensionality reduction\n",
        "\n",
        "from sklearn.discriminant_analysis import LinearDiscriminantAnalysis\n",
        "\n",
        "lda = LinearDiscriminantAnalysis(n_components=1)\n",
        "\n",
        "X_train = lda.fit_transform(X_train,y_train)\n",
        "\n",
        "X_test = lda.transform(X_test)"
      ],
      "execution_count": 333,
      "outputs": []
    },
    {
      "cell_type": "markdown",
      "metadata": {
        "id": "ftCneaVQgafj"
      },
      "source": [
        "**Model 1 : Test Size [ 80 - 20 ]**"
      ]
    },
    {
      "cell_type": "code",
      "metadata": {
        "id": "BOlEpwISYSSS"
      },
      "source": [
        "#now that data is normalized, we fit model\n",
        "\n",
        "from sklearn.naive_bayes import GaussianNB\n",
        "\n",
        "mymodel = GaussianNB()\n",
        "\n",
        "mymodel.fit(X_train,y_train)\n",
        "\n",
        "ypred = mymodel.predict(X_test)"
      ],
      "execution_count": 334,
      "outputs": []
    },
    {
      "cell_type": "code",
      "metadata": {
        "colab": {
          "base_uri": "https://localhost:8080/"
        },
        "id": "njX-38osaaWR",
        "outputId": "9ce34de0-fa37-48c9-fed4-64697daf7950"
      },
      "source": [
        "#get accuracy metrics for data\n",
        "\n",
        "from sklearn.metrics import accuracy_score,f1_score,confusion_matrix\n",
        "\n",
        "print('Accuracy : ',accuracy_score(y_test,ypred) * 100)\n",
        "\n",
        "print('')\n",
        "\n",
        "print('F1 Score : ',f1_score(y_test,ypred) * 100)\n",
        "\n",
        "print('')\n",
        "\n",
        "confusion_matrix(y_test,ypred) "
      ],
      "execution_count": 335,
      "outputs": [
        {
          "output_type": "stream",
          "text": [
            "Accuracy :  90.5\n",
            "\n",
            "F1 Score :  90.45226130653265\n",
            "\n"
          ],
          "name": "stdout"
        },
        {
          "output_type": "execute_result",
          "data": {
            "text/plain": [
              "array([[91,  7],\n",
              "       [12, 90]])"
            ]
          },
          "metadata": {
            "tags": []
          },
          "execution_count": 335
        }
      ]
    },
    {
      "cell_type": "markdown",
      "metadata": {
        "id": "JcmBFu8JfndA"
      },
      "source": [
        "The first GaussianNB model has an accuracy of 90.5 % while having a good F1_score of 90.4 % to positively predict emails as spam. This model used a test size of 80 - 20 on train  / test data. Lets optimize this model using other test sizes"
      ]
    },
    {
      "cell_type": "markdown",
      "metadata": {
        "id": "rYb1Fvp8gRXx"
      },
      "source": [
        "**Model 2 : Test Size 70 - 30**"
      ]
    },
    {
      "cell_type": "code",
      "metadata": {
        "colab": {
          "base_uri": "https://localhost:8080/"
        },
        "id": "e8gH6CeFFcg2",
        "outputId": "9a3bf289-aa31-434e-be28-bbcd36a05b5b"
      },
      "source": [
        "#scale the data \n",
        "\n",
        "# use standard scaler for this\n",
        "from sklearn.preprocessing import StandardScaler\n",
        "\n",
        "sc = StandardScaler()\n",
        "\n",
        "df_features = ['make', 'address', 'all', '3d', 'CS', 'over', 'remove', 'internet',\n",
        "       'order', 'mail', 'receive', 'will', 'people', 'report', 'addresses',\n",
        "       'free', 'business', 'email', 'You', 'credit', 'your', 'font', '000',\n",
        "       'money', 'hp', 'hpl', 'George', '650', 'lab', 'labs', 'telnet', '857',\n",
        "       'data', '415', '85', 'Technology', '1999', 'Parts', 'PM', 'Direct',\n",
        "       '0.32.2', 'Meeting', 'Original', 'Project', 'RE', 'EDU', 'Table',\n",
        "       'Conference', ';', '(', 'callibrace', '!', '$', '#',\n",
        "       'Capital_Run_length_avg', 'Capital_Run_length_longest',\n",
        "       'Capital_Run_length_total']\n",
        "\n",
        "from sklearn.model_selection import train_test_split\n",
        "\n",
        "X = newdf[df_features].values\n",
        "\n",
        "y = newdf['Spam'].values\n",
        "\n",
        "X_train,X_test,y_train,y_test = train_test_split(X,y,test_size = 0.3,random_state = 0)\n",
        "\n",
        "#on scaling\n",
        "\n",
        "X_train = sc.fit_transform(X_train)\n",
        "\n",
        "X_test = sc.transform(X_test)\n",
        "\n",
        "#now fit a Naive Bayes Model\n",
        "\n",
        "# First, we use a Gaussian Naive Bayes Model\n",
        "\n",
        "# for this we normalize the data\n",
        "\n",
        "from sklearn.preprocessing import normalize\n",
        "X_train = normalize(X_train, norm='max')\n",
        "X_test = normalize(X_test, norm='max')\n",
        "\n",
        "#now use LDA for dimensionality reduction\n",
        "\n",
        "from sklearn.discriminant_analysis import LinearDiscriminantAnalysis\n",
        "\n",
        "lda = LinearDiscriminantAnalysis(n_components=1)\n",
        "\n",
        "X_train = lda.fit_transform(X_train,y_train)\n",
        "\n",
        "X_test = lda.transform(X_test)\n",
        "\n",
        "#now that data is normalized, we fit model\n",
        "\n",
        "from sklearn.naive_bayes import GaussianNB\n",
        "\n",
        "model2 = GaussianNB()\n",
        "\n",
        "model2.fit(X_train,y_train)\n",
        "\n",
        "ypred2 = model2.predict(X_test)\n",
        "\n",
        "#get accuracy metrics for data\n",
        "\n",
        "from sklearn.metrics import accuracy_score,f1_score,confusion_matrix\n",
        "\n",
        "print('Accuracy : ',accuracy_score(y_test,ypred2) * 100)\n",
        "\n",
        "print('')\n",
        "\n",
        "print('F1 Score : ',f1_score(y_test,ypred2) * 100)\n",
        "\n",
        "print('')\n",
        "\n",
        "confusion_matrix(y_test,ypred2) "
      ],
      "execution_count": 336,
      "outputs": [
        {
          "output_type": "stream",
          "text": [
            "Accuracy :  90.33333333333333\n",
            "\n",
            "F1 Score :  90.49180327868852\n",
            "\n"
          ],
          "name": "stdout"
        },
        {
          "output_type": "execute_result",
          "data": {
            "text/plain": [
              "array([[133,  11],\n",
              "       [ 18, 138]])"
            ]
          },
          "metadata": {
            "tags": []
          },
          "execution_count": 336
        }
      ]
    },
    {
      "cell_type": "markdown",
      "metadata": {
        "id": "UXDrjjxAgpbz"
      },
      "source": [
        "**Model 2** accuracy decreases by about 0.2% while its F1_Score for **precision and recall** remained constant at 90.4 %"
      ]
    },
    {
      "cell_type": "markdown",
      "metadata": {
        "id": "7u7JdyM0hIau"
      },
      "source": [
        "**Model 3 : Test size [60 - 40 ]**"
      ]
    },
    {
      "cell_type": "code",
      "metadata": {
        "colab": {
          "base_uri": "https://localhost:8080/"
        },
        "id": "gc5TwO-HGBSx",
        "outputId": "509b9f23-b05f-4c26-cd60-65d363612815"
      },
      "source": [
        "#scale the data \n",
        "\n",
        "# use standard scaler for this\n",
        "from sklearn.preprocessing import StandardScaler\n",
        "\n",
        "sc = StandardScaler()\n",
        "\n",
        "df_features = ['make', 'address', 'all', '3d', 'CS', 'over', 'remove', 'internet',\n",
        "       'order', 'mail', 'receive', 'will', 'people', 'report', 'addresses',\n",
        "       'free', 'business', 'email', 'You', 'credit', 'your', 'font', '000',\n",
        "       'money', 'hp', 'hpl', 'George', '650', 'lab', 'labs', 'telnet', '857',\n",
        "       'data', '415', '85', 'Technology', '1999', 'Parts', 'PM', 'Direct',\n",
        "       '0.32.2', 'Meeting', 'Original', 'Project', 'RE', 'EDU', 'Table',\n",
        "       'Conference', ';', '(', 'callibrace', '!', '$', '#',\n",
        "       'Capital_Run_length_avg', 'Capital_Run_length_longest',\n",
        "       'Capital_Run_length_total']\n",
        "\n",
        "from sklearn.model_selection import train_test_split\n",
        "\n",
        "X = newdf[df_features].values\n",
        "\n",
        "y = newdf['Spam'].values\n",
        "\n",
        "X_train,X_test,y_train,y_test = train_test_split(X,y,test_size = 0.4,random_state = 0)\n",
        "\n",
        "#on scaling\n",
        "\n",
        "X_train = sc.fit_transform(X_train)\n",
        "\n",
        "X_test = sc.transform(X_test)\n",
        "\n",
        "#now fit a Naive Bayes Model\n",
        "\n",
        "# First, we use a Gaussian Naive Bayes Model\n",
        "\n",
        "# for this we normalize the data\n",
        "\n",
        "from sklearn.preprocessing import normalize\n",
        "X_train = normalize(X_train, norm='max')\n",
        "X_test = normalize(X_test, norm='max')\n",
        "\n",
        "#now use LDA for dimensionality reduction\n",
        "\n",
        "from sklearn.discriminant_analysis import LinearDiscriminantAnalysis\n",
        "\n",
        "lda = LinearDiscriminantAnalysis(n_components=1)\n",
        "\n",
        "X_train = lda.fit_transform(X_train,y_train)\n",
        "\n",
        "X_test = lda.transform(X_test)\n",
        "\n",
        "#now that data is normalized, we fit model\n",
        "\n",
        "from sklearn.naive_bayes import GaussianNB\n",
        "\n",
        "model3 = GaussianNB()\n",
        "\n",
        "model3.fit(X_train,y_train)\n",
        "\n",
        "mypred = model3.predict(X_test)\n",
        "\n",
        "#get accuracy metrics for data\n",
        "\n",
        "from sklearn.metrics import accuracy_score,f1_score,confusion_matrix\n",
        "\n",
        "print('Accuracy : ',accuracy_score(y_test,mypred) * 100)\n",
        "\n",
        "print('')\n",
        "\n",
        "print('F1 Score : ',f1_score(y_test,mypred) * 100)\n",
        "\n",
        "print('')\n",
        "\n",
        "confusion_matrix(y_test,mypred) "
      ],
      "execution_count": 337,
      "outputs": [
        {
          "output_type": "stream",
          "text": [
            "Accuracy :  91.0\n",
            "\n",
            "F1 Score :  90.42553191489361\n",
            "\n"
          ],
          "name": "stdout"
        },
        {
          "output_type": "execute_result",
          "data": {
            "text/plain": [
              "array([[194,  12],\n",
              "       [ 24, 170]])"
            ]
          },
          "metadata": {
            "tags": []
          },
          "execution_count": 337
        }
      ]
    },
    {
      "cell_type": "markdown",
      "metadata": {
        "id": "1aG5p-O9hQ2F"
      },
      "source": [
        "Increasing the test size from 20 % to 40 % increases the model accuracy from 90% to 91  and the F1_Score for **Precison and Recall** remains constant.  This is the best model to use in this Spam Classification problem since the number of True Positives from the **Confusion Matrix is high, denoting a better recall and precision** as compared to the other models."
      ]
    },
    {
      "cell_type": "markdown",
      "metadata": {
        "id": "DmGA4RpZh_g_"
      },
      "source": [
        "## Recommendations\n",
        "\n",
        "Since Model 3 performed by far the best classification job, we can recommend this model for use in this Spam Classification problem since the number of True Positives from the Confusion Matrix is high, denoting a better recall and precision as compared to the other models."
      ]
    }
  ]
}